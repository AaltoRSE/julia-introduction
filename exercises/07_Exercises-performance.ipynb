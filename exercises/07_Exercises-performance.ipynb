{
 "cells": [
  {
   "cell_type": "markdown",
   "metadata": {},
   "source": [
    "# Exercises: HPC"
   ]
  },
  {
   "cell_type": "markdown",
   "metadata": {},
   "source": [
    "### π in parallel\n",
    "\n",
    "Let's compute the value of π=3.1415926.... in parallel using Monte Carlo simulations.\n",
    "\n",
    "Below is a function that does this by throwing darts inside a box of $[-1, 1]^2$. It follows from the definition of π that the area fo a circle is $A = \\pi r^2$, where $r$ is the radius of a circle. We develop a Monte Carlo algorithm to compute π by randomly throwing darts (i.e., generating uniformly distributed random numbers inside a unit box) and counting the fraction of the points that land inside the circle."
   ]
  },
  {
   "cell_type": "markdown",
   "metadata": {},
   "source": [
    "Let's try to visualize the setup first. "
   ]
  },
  {
   "cell_type": "code",
   "execution_count": 4,
   "metadata": {},
   "outputs": [
    {
     "data": {
      "image/png": "[encoded data removed]"
     },
     "execution_count": 4,
     "metadata": {},
     "output_type": "execute_result"
    }
   ],
   "source": [
    "using Plots\n",
    "pyplot()\n",
    "\n",
    "plt = plot( xlims=(-2,2), ylims=(-2,2), aspect_ratio=1)\n",
    "for n in 1:500\n",
    "    x = rand()*2 - 1\n",
    "    y = rand()*2 - 1\n",
    "    \n",
    "    r = sqrt(x^2 + y^2)\n",
    "    if r < 1\n",
    "        #inside\n",
    "        scatter!([x], [y], color=\"red\", label=\"\")\n",
    "    else\n",
    "        #outside\n",
    "        scatter!([x], [y], color=\"blue\",label=\"\")\n",
    "    end\n",
    "end\n",
    "plt #display plot"
   ]
  },
  {
   "cell_type": "markdown",
   "metadata": {},
   "source": [
    "Can you see the circle? Now, let's do some actual computing."
   ]
  },
  {
   "cell_type": "code",
   "execution_count": 5,
   "metadata": {},
   "outputs": [
    {
     "data": {
      "text/plain": [
       "compute_pi (generic function with 1 method)"
      ]
     },
     "execution_count": 5,
     "metadata": {},
     "output_type": "execute_result"
    }
   ],
   "source": [
    "function compute_pi(N::Int)\n",
    "    n_landed_in_circle = 0  # counts number of points that have radial coordinate < 1, i.e. in circle\n",
    "    for i = 1:N\n",
    "        x = rand() * 2 - 1  # uniformly distributed number on x-axis\n",
    "        y = rand() * 2 - 1  # uniformly distributed number on y-axis\n",
    "\n",
    "        r = sqrt(x*x + y*y)  # radius squared, in radial coordinates\n",
    "        if r < 1\n",
    "            n_landed_in_circle += 1\n",
    "        end\n",
    "    end\n",
    "\n",
    "    return n_landed_in_circle / N * 4.0    \n",
    "end\n"
   ]
  },
  {
   "cell_type": "code",
   "execution_count": 7,
   "metadata": {},
   "outputs": [
    {
     "name": "stdout",
     "output_type": "stream",
     "text": [
      "  4.280314 seconds (6 allocations: 192 bytes)\n"
     ]
    },
    {
     "data": {
      "text/plain": [
       "3.141667856"
      ]
     },
     "execution_count": 7,
     "metadata": {},
     "output_type": "execute_result"
    }
   ],
   "source": [
    "@time compute_pi(10^9) #my very own π!"
   ]
  },
  {
   "cell_type": "markdown",
   "metadata": {},
   "source": [
    "#### Actual exercise\n",
    "Your mission? Parallellize the `compute_pi` function! \n",
    "\n",
    "Hint: see the `for` loop? Remember `@distributed`? Remember that when using `@distributed` the result of each iteration is taken as the value of the last expression inside the loop. Therefore if your loops ends in\n",
    "```julia\n",
    "for \n",
    "    #blaablaa\n",
    "    #...\n",
    "    if something\n",
    "        1\n",
    "    else\n",
    "        0\n",
    "    end\n",
    "end\n",
    "```\n",
    "it will result in returning either `1` or `0`.\n",
    "\n",
    "You can also try adapting this to use `pmap` if you like. "
   ]
  },
  {
   "cell_type": "markdown",
   "metadata": {},
   "source": [
    "Remember to add workers before we run our sweet new function with this command:"
   ]
  },
  {
   "cell_type": "code",
   "execution_count": 10,
   "metadata": {},
   "outputs": [
    {
     "data": {
      "text/plain": [
       "5"
      ]
     },
     "execution_count": 10,
     "metadata": {},
     "output_type": "execute_result"
    }
   ],
   "source": [
    "using Distributed\n",
    "addprocs(4)\n",
    "nprocs()"
   ]
  },
  {
   "cell_type": "markdown",
   "metadata": {},
   "source": [
    "Finally, after you are done, see the full story at [Parallel Monte Carlo in Julia](http://corysimon.github.io/articles/parallel-monte-carlo-in-julia/)"
   ]
  },
  {
   "cell_type": "markdown",
   "metadata": {},
   "source": [
    "### Advanced: Distributed Arrays\n",
    "\n",
    "Install `DistributedArrays` as\n",
    "```julia\n",
    "Pkg.add(\"DistributedArrays\")\n",
    "```\n",
    "\n",
    "then try them out as\n",
    "```julia\n",
    "addprocs(4) #adding 4 workers to share the load\n",
    "@everywhere using DistributedArrays #loading DAs for every worker\n",
    "A = fill(1.1, (100, 100) ) #create array\n",
    "DA = distribute(A) #distribute it to workers\n",
    "sum(DA)\n",
    "```"
   ]
  },
  {
   "cell_type": "markdown",
   "metadata": {},
   "source": [
    "### Advanced: MPI\n",
    "\n",
    "Install `MPI` package by running:\n",
    "```julia\n",
    "Pkg.update()\n",
    "Pkg.add(\"MPI\")\n",
    "```\n",
    "In case of problems, see the [readme](https://github.com/JuliaParallel/MPI.jl)\n",
    "\n",
    "Because of how MPI works, we need to explicitly write our code into a file. Create `01-hello.jl` and `01-hello-impl.jl` as follows:\n",
    "\n",
    "`01-hello.jl` should look like this:\n",
    "```julia\n",
    "\n",
    "import MPI\n",
    "include(\"01-hello-impl.jl\")\n",
    "\n",
    "function main()\n",
    "    MPI.Init()\n",
    "\n",
    "    do_hello()\n",
    "\n",
    "    MPI.Finalize()\n",
    "end\n",
    "\n",
    "main()\n",
    "```\n",
    "and the actual implementation file `01-hello-impl.jl` like this\n",
    "```julia\n",
    "\n",
    "function do_hello()\n",
    "    comm = MPI.COMM_WORLD\n",
    "    println(\"Hello world, I am $(MPI.Comm_rank(comm)) of $(MPI.Comm_size(comm))\")\n",
    "    MPI.Barrier(comm)\n",
    "end\n",
    "```\n",
    "\n",
    "\n",
    "You can execute your code the normal way as\n",
    "```bash\n",
    "mpirun -np 3 julia 01-hello.jl\n",
    "```\n",
    "\n",
    "See the MPI.jl [examples](https://github.com/JuliaParallel/MPI.jl/tree/master/examples) for more."
   ]
  },
  {
   "cell_type": "code",
   "execution_count": null,
   "metadata": {},
   "outputs": [],
   "source": []
  }
 ],
 "metadata": {
  "kernelspec": {
   "display_name": "Julia 1.0.3",
   "language": "julia",
   "name": "julia-1.0"
  },
  "language_info": {
   "file_extension": ".jl",
   "mimetype": "application/julia",
   "name": "julia",
   "version": "1.0.3"
  }
 },
 "nbformat": 4,
 "nbformat_minor": 2
}
