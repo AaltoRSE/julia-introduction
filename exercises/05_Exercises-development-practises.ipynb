{
 "cells": [
  {
   "cell_type": "markdown",
   "metadata": {},
   "source": [
    "# Exercises: development practises"
   ]
  },
  {
   "cell_type": "markdown",
   "metadata": {},
   "source": [
    "### Pretty functions\n",
    "\n",
    "Write a function called `blackbox`. It should behave such that it prints\n",
    "- `beeb` if no arguments are given\n",
    "- `beeb beeb` if 1 argument is given (use optional default argument)\n",
    "- `bzz bzz` if keyword argument `bzz` is `true`"
   ]
  },
  {
   "cell_type": "code",
   "execution_count": null,
   "metadata": {},
   "outputs": [],
   "source": []
  },
  {
   "cell_type": "markdown",
   "metadata": {},
   "source": [
    "### Multiple dispatch\n",
    "Implement a set of functions with 1 input argument using multiple dispatch that prints\n",
    "- `integer` if the given value is integer\n",
    "- `real` if the given value is real (i.e., float) \n",
    "- `string` if the given value is `String`, and\n",
    "- `other` else\n",
    "\n",
    "Hint: It might help you to know that there exists such types as `Integer` and `AbstractFloat` in Julia."
   ]
  },
  {
   "cell_type": "code",
   "execution_count": null,
   "metadata": {},
   "outputs": [],
   "source": []
  },
  {
   "cell_type": "markdown",
   "metadata": {},
   "source": [
    "### Dictionaries\n",
    "\n",
    "So far we have not used dictionaries a lot. They can, however, improve the readability of your code tremendously. \n",
    "\n",
    "Create a dictionary whose keys are the fruits “pineapple”, “strawberry”, and “banana”. As values use numbers representing e.g. prices.\n",
    "\n",
    "Add “orange” to the dictionary and then remove “banana” from the dictionary. Investigate the contents of dictionary and pay attention to the order of key-value pairs.\n",
    "\n",
    "Just to remind you, the syntax for dictionaries is `dict = Dict(\"a\" => 1, \"b\" => 2, \"c\" => 3)`. They can be modified with an aptly named `delete!()` function."
   ]
  },
  {
   "cell_type": "code",
   "execution_count": null,
   "metadata": {},
   "outputs": [],
   "source": []
  },
  {
   "cell_type": "markdown",
   "metadata": {},
   "source": [
    "### Advanced: Dictionaries for language processing\n",
    "\n",
    "This is a more complex use-case of dictionaries for processing a Sherlock Holmes book.\n",
    "\n",
    "To build the dictionary, we loop through the list of words, and use `get()` to look up the current tally, if any. If the word has already been seen, the count can be increased. If the word hasn't been seen before, the fall-back third argument of get() ensures that the absence doesn't cause an error, and 1 is stored instead."
   ]
  },
  {
   "cell_type": "code",
   "execution_count": 14,
   "metadata": {},
   "outputs": [],
   "source": [
    "#read file\n",
    "f = open(\"../data/sherlock-holmes.txt\")\n",
    "\n",
    "#first make everything lowercase\n",
    "#then use regexp to split by words\n",
    "#finally, keep=false means that characters in between words are not stored\n",
    "wordlist = split(lowercase(readstring(f)), r\"\\W\", keep=false)\n",
    "close(f)\n",
    "\n",
    "#To store the words and the word counts, we'll create a spesific dictionary:\n",
    "wordcounts = Dict{String,Int64}()\n",
    "\n",
    "#get word counts\n",
    "for word in wordlist\n",
    "    wordcounts[word]=get(wordcounts, word, 0) + 1\n",
    "end"
   ]
  },
  {
   "cell_type": "markdown",
   "metadata": {},
   "source": [
    "Now we have all the words read into the dictionary"
   ]
  },
  {
   "cell_type": "code",
   "execution_count": null,
   "metadata": {},
   "outputs": [],
   "source": [
    "wordcounts"
   ]
  },
  {
   "cell_type": "markdown",
   "metadata": {},
   "source": [
    "Try and analyze what are the most frequent words in our data set."
   ]
  },
  {
   "cell_type": "code",
   "execution_count": null,
   "metadata": {},
   "outputs": [],
   "source": []
  }
 ],
 "metadata": {
  "kernelspec": {
   "display_name": "Julia 0.6.2",
   "language": "julia",
   "name": "julia-0.6"
  },
  "language_info": {
   "file_extension": ".jl",
   "mimetype": "application/julia",
   "name": "julia",
   "version": "0.6.2"
  }
 },
 "nbformat": 4,
 "nbformat_minor": 2
}
