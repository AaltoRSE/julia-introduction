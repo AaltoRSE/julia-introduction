{
 "cells": [
  {
   "cell_type": "markdown",
   "metadata": {},
   "source": [
    "# Exercises: Control flow"
   ]
  },
  {
   "cell_type": "markdown",
   "metadata": {},
   "source": [
    "### if...\n",
    "\n",
    "Write a conditional statement that prints the number itself if it is smaller than zero, and the string \"positive\" if the number is larger than or equal to zero.\n"
   ]
  },
  {
   "cell_type": "code",
   "execution_count": null,
   "metadata": {},
   "outputs": [],
   "source": []
  },
  {
   "cell_type": "markdown",
   "metadata": {},
   "source": [
    "### for-loops\n",
    "\n",
    "Loop over integers between 1 and 100 and print their squares."
   ]
  },
  {
   "cell_type": "code",
   "execution_count": null,
   "metadata": {},
   "outputs": [],
   "source": []
  },
  {
   "cell_type": "markdown",
   "metadata": {},
   "source": [
    "### while\n",
    "\n",
    "Do the same with a `while` statement"
   ]
  },
  {
   "cell_type": "code",
   "execution_count": null,
   "metadata": {},
   "outputs": [],
   "source": []
  },
  {
   "cell_type": "markdown",
   "metadata": {},
   "source": [
    "### arrays\n",
    "\n",
    "Use an array comprehension to create an an array that stores the squares for all integers between 1 and 100."
   ]
  },
  {
   "cell_type": "code",
   "execution_count": null,
   "metadata": {},
   "outputs": [],
   "source": []
  },
  {
   "cell_type": "markdown",
   "metadata": {},
   "source": [
    "## Game of Life\n",
    "\n",
    "In the famous Conway's Game of Life, cells follow simple rules:\n",
    "\n",
    "1. Cells have two states, alive or dead.\n",
    "1. Living cells with less than 2 neighbours die.\n",
    "1. Living cells with more than 3 neighbours die.\n",
    "1. Dead cells with 3 neighbours become alive.\n",
    "\n",
    "This is in many ways similar to our simplified epidemic model. Some cells are \"on\" and some are \"off\". However the update step depends on how many of a cells neighbours are \"on\".\n",
    "\n",
    "In the code below alive cells have the value 1 and dead cells the value 0. To implement the Game of Life, we first need to counts the number of neighbouring cells that are alive.\n",
    "\n",
    "The following loop does this. Fill in the missing pieces, marked with <>."
   ]
  },
  {
   "cell_type": "code",
   "execution_count": null,
   "metadata": {},
   "outputs": [],
   "source": [
    "# Let's try the glider pattern\n",
    "cells = Int8[0 0 1 0 0 ;\n",
    "             1 0 1 0 0 ;\n",
    "             0 1 1 0 0 ;\n",
    "             0 0 0 0 0 ;\n",
    "             0 0 0 0 0 ]\n",
    "\n",
    "# Create an array of zeros with the same size as cells\n",
    "# for counting the neighbours.\n",
    "counts = zeros(Int8, size(cells))\n",
    "\n",
    "# eachrow() let's us enumerate one row at a time\n",
    "<> (i, row) <> enumerate(eachrow(cells))\n",
    "    # Loop over each cell in a row\n",
    "    <> (j, cell) <> enumerate(row)\n",
    "        \n",
    "        # Now count the neighbours\n",
    "        <> nb <> [(i-1,j-1), (i,j-1), (i+1,j-1), (i,j-1), (i,j+1), (i+1,j-1), (i+1,j), (i+1,j+1)]\n",
    "            \n",
    "            # If this cell is at a boundary, we need that the\n",
    "            # neighbour is inside the array.\n",
    "            <> size(cells)[1] > nb[1] > 0\n",
    "                <> size(cells)[2] > nb[2] > 0\n",
    "                    counts[i,j] += cells[nb[1],nb[2]]\n",
    "                end\n",
    "            end\n",
    "        end\n",
    "        \n",
    "    end\n",
    "end\n",
    "\n",
    "counts"
   ]
  },
  {
   "cell_type": "code",
   "execution_count": null,
   "metadata": {},
   "outputs": [],
   "source": [
    "# rows\n",
    "for i in 1:size(cells)[1]\n",
    "    # columns\n",
    "    for j in 1:size(cells)[2]\n",
    "        \n",
    "        # Living cells with less than 2 neighbours die\n",
    "        if cells[i,j] == 1 && counts[i,j] < 2\n",
    "            cells[i,j] = 0\n",
    "        end\n",
    "        \n",
    "        # Living cells with more than 3 neighbours die.\n",
    "        if cells[i,j] == 1 && counts[i,j] > 3\n",
    "            cells[i,j] = 0\n",
    "        end\n",
    "        \n",
    "        # Dead cells with 3 neighbours become alive.\n",
    "        if cells[i,j] == 0 && counts[i,j] == 3\n",
    "            cells[i,j] = 1\n",
    "        end\n",
    "        \n",
    "    end\n",
    "end"
   ]
  },
  {
   "cell_type": "markdown",
   "metadata": {},
   "source": [
    "### Advanced: FizzBuzz\n",
    "\n",
    "Implement the (infamous) FizzBuzz test using Julia: \n",
    "\n",
    "Loop over numbers between 1 and 100. For every element:\n",
    "- given a number, N, print \"Fizz\" if N is divisible by 3, \n",
    "- \"Buzz\" if N is divisible by 5, \n",
    "- and \"FizzBuzz\" if N is divisible by 3 and 5. \n",
    "- Otherwise just print the number itself\n",
    "\n",
    "You can check the remainder of division using the `%` symbol, i.e., `3 % 2 = 1`"
   ]
  },
  {
   "cell_type": "code",
   "execution_count": null,
   "metadata": {},
   "outputs": [],
   "source": []
  }
 ],
 "metadata": {
  "kernelspec": {
   "display_name": "Julia 1.6.0",
   "language": "julia",
   "name": "julia-1.6"
  },
  "language_info": {
   "file_extension": ".jl",
   "mimetype": "application/julia",
   "name": "julia",
   "version": "1.6.0"
  }
 },
 "nbformat": 4,
 "nbformat_minor": 2
}
