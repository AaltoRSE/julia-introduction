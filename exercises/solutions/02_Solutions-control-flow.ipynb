{
 "cells": [
  {
   "cell_type": "markdown",
   "metadata": {},
   "source": [
    "# Exercises: Control flow"
   ]
  },
  {
   "cell_type": "markdown",
   "metadata": {},
   "source": [
    "### if...\n",
    "\n",
    "Write a conditional statement that prints the number itself if it is smaller than zero, and the string \"positive\" if the number is larger than or equal to zero.\n"
   ]
  },
  {
   "cell_type": "code",
   "execution_count": 3,
   "metadata": {},
   "outputs": [
    {
     "name": "stdout",
     "output_type": "stream",
     "text": [
      "positive\n"
     ]
    }
   ],
   "source": [
    "x = 1 \n",
    "if x < 0\n",
    "    println(x)\n",
    "else\n",
    "    println(\"positive\")\n",
    "end"
   ]
  },
  {
   "cell_type": "markdown",
   "metadata": {},
   "source": [
    "### ternary operator\n",
    "\n",
    "Rewrite the previous exercise using the ternary operator."
   ]
  },
  {
   "cell_type": "code",
   "execution_count": 5,
   "metadata": {},
   "outputs": [
    {
     "name": "stdout",
     "output_type": "stream",
     "text": [
      "positive\n"
     ]
    }
   ],
   "source": [
    "(x < 0) ? println(x) : println(\"positive\")"
   ]
  },
  {
   "cell_type": "markdown",
   "metadata": {},
   "source": [
    "### for-loops\n",
    "\n",
    "Loop over integers between 1 and 100 and print their squares."
   ]
  },
  {
   "cell_type": "code",
   "execution_count": null,
   "metadata": {},
   "outputs": [],
   "source": [
    "for i = 1:100\n",
    "    println(i^2)\n",
    "end"
   ]
  },
  {
   "cell_type": "markdown",
   "metadata": {},
   "source": [
    "### while\n",
    "\n",
    "Do the same with a `while` statement"
   ]
  },
  {
   "cell_type": "code",
   "execution_count": null,
   "metadata": {},
   "outputs": [],
   "source": [
    "i = 1\n",
    "while i <= 100\n",
    "    println(i^2)\n",
    "    i += 1\n",
    "end"
   ]
  },
  {
   "cell_type": "markdown",
   "metadata": {},
   "source": [
    "### arrays\n",
    "\n",
    "Use an array comprehension to create an an array that stores the squares for all integers between 1 and 100."
   ]
  },
  {
   "cell_type": "code",
   "execution_count": null,
   "metadata": {},
   "outputs": [],
   "source": [
    "[x^2 for x = 1:100]"
   ]
  },
  {
   "cell_type": "markdown",
   "metadata": {},
   "source": [
    "### Advanced: FizzBuzz\n",
    "\n",
    "Implement the (infamous) FizzBuzz test using Julia: \n",
    "\n",
    "Loop over numbers between 1 and 100. For every element:\n",
    "- given a number, N, print \"Fizz\" if N is divisible by 3, \n",
    "- \"Buzz\" if N is divisible by 5, \n",
    "- and \"FizzBuzz\" if N is divisible by 3 and 5. \n",
    "- Otherwise just print the number itself\n",
    "\n",
    "You can check the remainder of division using the `%` symbol, i.e., `3 % 2 = 1`"
   ]
  },
  {
   "cell_type": "code",
   "execution_count": null,
   "metadata": {},
   "outputs": [],
   "source": [
    "for i = 1:100\n",
    "    if i % 3 == 0 && i % 5 == 0\n",
    "        println(\"FizzBuzz\")\n",
    "    elseif i % 3 == 0\n",
    "        println(\"Fizz\")\n",
    "    elseif i % 5 == 0\n",
    "        println(\"Buzz\")\n",
    "    else\n",
    "        println(i)\n",
    "    end\n",
    "end"
   ]
  },
  {
   "cell_type": "code",
   "execution_count": null,
   "metadata": {},
   "outputs": [],
   "source": []
  }
 ],
 "metadata": {
  "kernelspec": {
   "display_name": "Julia 0.6.2",
   "language": "julia",
   "name": "julia-0.6"
  },
  "language_info": {
   "file_extension": ".jl",
   "mimetype": "application/julia",
   "name": "julia",
   "version": "0.6.2"
  }
 },
 "nbformat": 4,
 "nbformat_minor": 2
}
