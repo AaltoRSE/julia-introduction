{
 "cells": [
  {
   "cell_type": "markdown",
   "metadata": {},
   "source": [
    "# Exercises: Control flow"
   ]
  },
  {
   "cell_type": "markdown",
   "metadata": {},
   "source": [
    "### if...\n",
    "\n",
    "Write a conditional statement that prints the number itself if it is smaller than zero, and the string \"positive\" if the number is larger than or equal to zero.\n"
   ]
  },
  {
   "cell_type": "code",
   "execution_count": null,
   "metadata": {},
   "outputs": [],
   "source": [
    "x = 1 \n",
    "if x < 0\n",
    "    println(x)\n",
    "else\n",
    "    println(\"positive\")\n",
    "end"
   ]
  },
  {
   "cell_type": "markdown",
   "metadata": {},
   "source": [
    "### ternary operator\n",
    "\n",
    "Rewrite the previous exercise using the ternary operator."
   ]
  },
  {
   "cell_type": "code",
   "execution_count": null,
   "metadata": {},
   "outputs": [],
   "source": [
    "(x < 0) ? println(x) : println(\"positive\")"
   ]
  },
  {
   "cell_type": "markdown",
   "metadata": {},
   "source": [
    "### for-loops\n",
    "\n",
    "Loop over integers between 1 and 100 and print their squares."
   ]
  },
  {
   "cell_type": "code",
   "execution_count": null,
   "metadata": {},
   "outputs": [],
   "source": [
    "for i = 1:100\n",
    "    println(i^2)\n",
    "end"
   ]
  },
  {
   "cell_type": "markdown",
   "metadata": {},
   "source": [
    "### while\n",
    "\n",
    "Do the same with a `while` statement"
   ]
  },
  {
   "cell_type": "code",
   "execution_count": null,
   "metadata": {},
   "outputs": [],
   "source": [
    "i = 1\n",
    "while i <= 100\n",
    "    println(i^2)\n",
    "    i += 1\n",
    "end"
   ]
  },
  {
   "cell_type": "markdown",
   "metadata": {},
   "source": [
    "### arrays\n",
    "\n",
    "Use an array comprehension to create an an array that stores the squares for all integers between 1 and 100."
   ]
  },
  {
   "cell_type": "code",
   "execution_count": null,
   "metadata": {},
   "outputs": [],
   "source": [
    "[x^2 for x = 1:100]"
   ]
  },
  {
   "cell_type": "markdown",
   "metadata": {},
   "source": [
    "## Game of Life\n",
    "\n",
    "In the famous Conway's Game of Life, cells follow simple rules:\n",
    "\n",
    "1. Cells have two states, alive or dead.\n",
    "1. Living cells with less than 2 neighbours die.\n",
    "1. Living cells with more than 3 neighbours die.\n",
    "1. Dead cells with 3 neighbours become alive.\n",
    "\n",
    "This is in many ways similar to our simplified epidemic model. Some cells are \"on\" and some are \"off\". However the update step depends on how many of a cells neighbours are \"on\".\n",
    "\n",
    "In the code below alive cells have the value 1 and dead cells the value 0. To implement the Game of Life, we first need to counts the number of neighbouring cells that are alive.\n",
    "\n",
    "The following loop does this. Fill in the missing pieces, marked with <>."
   ]
  },
  {
   "cell_type": "code",
   "execution_count": 2,
   "metadata": {},
   "outputs": [
    {
     "data": {
      "text/plain": [
       "5×5 Matrix{Int8}:\n",
       " 1  4  1  4  0\n",
       " 1  5  3  5  0\n",
       " 1  2  2  3  0\n",
       " 0  0  1  1  0\n",
       " 0  0  0  0  0"
      ]
     },
     "execution_count": 2,
     "metadata": {},
     "output_type": "execute_result"
    }
   ],
   "source": [
    "# Let's try the glider pattern\n",
    "cells = Int8[0 0 1 0 0 ;\n",
    "             1 0 1 0 0 ;\n",
    "             0 1 1 0 0 ;\n",
    "             0 0 0 0 0 ;\n",
    "             0 0 0 0 0 ]\n",
    "\n",
    "# Create an array of zeros with the same size as cells\n",
    "# for counting the neighbours.\n",
    "counts = zeros(Int8, size(cells))\n",
    "\n",
    "# eachrow() let's us enumerate one row at a time\n",
    "for (i, row) in enumerate(eachrow(cells))\n",
    "    # Loop over each cell in a row\n",
    "    for (j, cell) in enumerate(row)\n",
    "        \n",
    "        # Now count the neighbours\n",
    "        for nb in [(i-1,j-1), (i,j-1), (i+1,j-1), (i,j-1), (i,j+1), (i+1,j-1), (i+1,j), (i+1,j+1)]\n",
    "            \n",
    "            # If this cell is at a boundary, we need that the\n",
    "            # neighbour is inside the array.\n",
    "            if size(cells)[1] > nb[1] > 0\n",
    "                if size(cells)[2] > nb[2] > 0\n",
    "                    counts[i,j] += cells[nb[1],nb[2]]\n",
    "                end\n",
    "            end\n",
    "        end\n",
    "        \n",
    "    end\n",
    "end\n",
    "\n",
    "counts"
   ]
  },
  {
   "cell_type": "markdown",
   "metadata": {},
   "source": [
    "### Advanced: FizzBuzz\n",
    "\n",
    "Implement the (infamous) FizzBuzz test using Julia: \n",
    "\n",
    "Loop over numbers between 1 and 100. For every element:\n",
    "- given a number, N, print \"Fizz\" if N is divisible by 3, \n",
    "- \"Buzz\" if N is divisible by 5, \n",
    "- and \"FizzBuzz\" if N is divisible by 3 and 5. \n",
    "- Otherwise just print the number itself\n",
    "\n",
    "You can check the remainder of division using the `%` symbol, i.e., `3 % 2 = 1`"
   ]
  },
  {
   "cell_type": "code",
   "execution_count": null,
   "metadata": {},
   "outputs": [],
   "source": [
    "for i = 1:100\n",
    "    if i % 3 == 0 && i % 5 == 0\n",
    "        println(\"FizzBuzz\")\n",
    "    elseif i % 3 == 0\n",
    "        println(\"Fizz\")\n",
    "    elseif i % 5 == 0\n",
    "        println(\"Buzz\")\n",
    "    else\n",
    "        println(i)\n",
    "    end\n",
    "end"
   ]
  },
  {
   "cell_type": "code",
   "execution_count": null,
   "metadata": {},
   "outputs": [],
   "source": []
  }
 ],
 "metadata": {
  "kernelspec": {
   "display_name": "Julia 1.6.0",
   "language": "julia",
   "name": "julia-1.6"
  },
  "language_info": {
   "file_extension": ".jl",
   "mimetype": "application/julia",
   "name": "julia",
   "version": "1.6.0"
  }
 },
 "nbformat": 4,
 "nbformat_minor": 2
}
