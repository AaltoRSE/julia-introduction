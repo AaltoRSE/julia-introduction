{
 "cells": [
  {
   "cell_type": "markdown",
   "metadata": {},
   "source": [
    "# Exercises: IO"
   ]
  },
  {
   "cell_type": "markdown",
   "metadata": {},
   "source": [
    "### Hi!\n",
    "\n",
    "Create a string that says \"hi\" 100 times. Hint: maybe there is some better way than just writing it 100 times?"
   ]
  },
  {
   "cell_type": "code",
   "execution_count": 1,
   "metadata": {},
   "outputs": [
    {
     "data": {
      "text/plain": [
       "\"hihihihihihihihihihihihihihihihihihihihihihihihihihihihihihihihihihihihihihihihihihihihihihihihihihihihihihihihihihihihihihihihihihihihihihihihihihihihihihihihihihihihihihihihihihihihihihihihihihihihi\""
      ]
     },
     "execution_count": 1,
     "metadata": {},
     "output_type": "execute_result"
    }
   ],
   "source": [
    "s = \"\"\n",
    "for i in 1:100\n",
    "    s *= \"hi\"\n",
    "end\n",
    "\n",
    "s"
   ]
  },
  {
   "cell_type": "code",
   "execution_count": 2,
   "metadata": {},
   "outputs": [
    {
     "data": {
      "text/plain": [
       "\"hihihihihihihihihihihihihihihihihihihihihihihihihihihihihihihihihihihihihihihihihihihihihihihihihihihihihihihihihihihihihihihihihihihihihihihihihihihihihihihihihihihihihihihihihihihihihihihihihihihihi\""
      ]
     },
     "execution_count": 2,
     "metadata": {},
     "output_type": "execute_result"
    }
   ],
   "source": [
    "#More elaborate way, since the power syntax is just calling multiplication under the hood (duck-typing)\n",
    "s = \"hi\"^100"
   ]
  },
  {
   "cell_type": "markdown",
   "metadata": {},
   "source": [
    "### String interpolation\n",
    "\n",
    "Declare two variables \n",
    "```julia\n",
    "a = 3\n",
    "b = 4\n",
    "```\n",
    "and use them to create two strings\n",
    "```\n",
    "\"3 + 4\"\n",
    "\"7\"\n",
    "```"
   ]
  },
  {
   "cell_type": "code",
   "execution_count": 3,
   "metadata": {},
   "outputs": [
    {
     "name": "stdout",
     "output_type": "stream",
     "text": [
      "3 + 4\n",
      "7\n"
     ]
    }
   ],
   "source": [
    "a = 3\n",
    "b = 4\n",
    "\n",
    "s1 = \"$a + $b\"\n",
    "s2 = \"$(a+b)\"\n",
    "\n",
    "println(s1)\n",
    "println(s2)"
   ]
  },
  {
   "cell_type": "markdown",
   "metadata": {},
   "source": [
    "### Simple file reading\n",
    "\n",
    "The file `\"../data/coordinates.txt\"` contains list of (x, y) value pairs. Read the values into an array using the `readdlm()` function. \n",
    "\n",
    "After that, write them into a file `coordinates.csv` using the CSV-format."
   ]
  },
  {
   "cell_type": "code",
   "execution_count": 7,
   "metadata": {},
   "outputs": [
    {
     "data": {
      "text/plain": [
       "10×2 Array{Float64,2}:\n",
       " -5.0       25.132   \n",
       " -3.88889   15.056   \n",
       " -2.77778    7.26171 \n",
       " -1.66667    2.90877 \n",
       " -0.555556  -0.141217\n",
       "  0.555556   0.176612\n",
       "  1.66667    2.83369 \n",
       "  2.77778    7.64384 \n",
       "  3.88889   14.9793  \n",
       "  5.0       25.2995  "
      ]
     },
     "execution_count": 7,
     "metadata": {},
     "output_type": "execute_result"
    }
   ],
   "source": [
    "using DelimitedFiles\n",
    "arr = readdlm(\"../../data/coordinates.txt\")"
   ]
  },
  {
   "cell_type": "code",
   "execution_count": 8,
   "metadata": {},
   "outputs": [],
   "source": [
    "writedlm(\"../../data/coordinates.csv\", arr, ',')"
   ]
  },
  {
   "cell_type": "markdown",
   "metadata": {},
   "source": [
    "### Advanced: Not so simple file reading\n",
    "\n",
    "Read the values of the `../data/coordinate.txt` into two arrays called `x` and `y` using the `open()`, `readline()` or `eachline()`, `close()` syntax.\n",
    "\n",
    "HINT: You will somehow need to parse each string of lines into numbers. Use the help and see what `split()` and `parse(Float64,... )` can do for you."
   ]
  },
  {
   "cell_type": "code",
   "execution_count": 17,
   "metadata": {},
   "outputs": [
    {
     "name": "stdout",
     "output_type": "stream",
     "text": [
      " -5.000000  25.131953\n",
      " -3.888889  15.056032\n",
      " -2.777778   7.261712\n",
      " -1.666667   2.908772\n",
      " -0.555556  -0.141217\n",
      "  0.555556   0.176612\n",
      "  1.666667   2.833694\n",
      "  2.777778   7.643842\n",
      "  3.888889  14.979309\n",
      "  5.000000  25.299547\n"
     ]
    }
   ],
   "source": [
    "x = Real[]\n",
    "y = Real[]\n",
    "open(\"../../data/coordinates.txt\", \"r\") do f\n",
    "    for line in eachline(f)\n",
    "        println(line)\n",
    "\n",
    "        a,b = parse.(Float64, split(line))\n",
    "        \n",
    "        push!(x, a)\n",
    "        push!(y, b)\n",
    "    end\n",
    "end"
   ]
  },
  {
   "cell_type": "code",
   "execution_count": null,
   "metadata": {},
   "outputs": [],
   "source": []
  }
 ],
 "metadata": {
  "kernelspec": {
   "display_name": "Julia 1.0.3",
   "language": "julia",
   "name": "julia-1.0"
  },
  "language_info": {
   "file_extension": ".jl",
   "mimetype": "application/julia",
   "name": "julia",
   "version": "1.0.3"
  }
 },
 "nbformat": 4,
 "nbformat_minor": 2
}
