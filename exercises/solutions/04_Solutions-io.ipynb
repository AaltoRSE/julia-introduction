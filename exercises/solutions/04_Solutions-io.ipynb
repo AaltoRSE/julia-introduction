{
 "cells": [
  {
   "cell_type": "markdown",
   "metadata": {},
   "source": [
    "# Exercises: IO"
   ]
  },
  {
   "cell_type": "markdown",
   "metadata": {},
   "source": [
    "### Hi!\n",
    "\n",
    "Create a string that says \"hi\" 100 times. Hint: maybe there is some better way than just writing it 100 times?"
   ]
  },
  {
   "cell_type": "code",
   "execution_count": null,
   "metadata": {},
   "outputs": [],
   "source": [
    "s = \"\"\n",
    "for i in 1:100\n",
    "    s *= \"hi\"\n",
    "end\n",
    "\n",
    "print(s)"
   ]
  },
  {
   "cell_type": "code",
   "execution_count": null,
   "metadata": {},
   "outputs": [],
   "source": [
    "#More elaborate way, since the power syntax is just calling multiplication under the hood (duck-typing)\n",
    "s = \"hi\"^100"
   ]
  },
  {
   "cell_type": "markdown",
   "metadata": {},
   "source": [
    "### String interpolation\n",
    "\n",
    "Declare two variables \n",
    "```julia\n",
    "a = 3\n",
    "b = 4\n",
    "```\n",
    "and use them to create two strings\n",
    "```\n",
    "\"3 + 4\"\n",
    "\"7\"\n",
    "```"
   ]
  },
  {
   "cell_type": "code",
   "execution_count": null,
   "metadata": {},
   "outputs": [],
   "source": [
    "a = 3\n",
    "b = 4\n",
    "\n",
    "s1 = \"$a + $b\"\n",
    "s2 = \"$(a+b)\"\n",
    "\n",
    "println(s1)\n",
    "println(s2)"
   ]
  },
  {
   "cell_type": "markdown",
   "metadata": {},
   "source": [
    "## Reading a Game of Life configuration\n",
    "\n",
    "The file `\"../data/pattern.txt\"` contains saved array of GoL cells. Read it into an array and look at the pattern. Run copy the update function into this notebook and run a few updates."
   ]
  },
  {
   "cell_type": "code",
   "execution_count": null,
   "metadata": {},
   "outputs": [],
   "source": [
    "# Copy the Game of Life functions here\n",
    "\n",
    "\"Count the number of neighbours at a given index\"\n",
    "function count_neighbours(cells, i, j)\n",
    "    count = 0\n",
    "    \n",
    "    for nb in [(i-1,j-1), (i,j-1), (i+1,j-1), (i-1,j), (i+1,j), (i-1,j+1), (i,j+1), (i+1,j+1)]\n",
    "        # If this cell is at a boundary, we need that the\n",
    "        # neighbour is inside the array.\n",
    "        if size(cells)[1] > nb[1] > 0\n",
    "            if size(cells)[2] > nb[2] > 0\n",
    "                count += cells[nb[1],nb[2]]\n",
    "            end\n",
    "        end\n",
    "    end\n",
    "    \n",
    "    return count\n",
    "end\n",
    "\n",
    "\"Return an array of the number of neighbours at each location\"\n",
    "function count_neighbours(cells)\n",
    "    # Create an array of zeros with the same size as cells\n",
    "    # for counting the neighbours.\n",
    "    counts = zeros(Int8, size(cells))\n",
    "    \n",
    "    # eachrow() let's us enumerate one row at a time\n",
    "    for (i, row) in enumerate(eachrow(cells))\n",
    "        # Loop over each cell in a row\n",
    "        for (j, cell) in enumerate(row)\n",
    "            counts[i,j] = count_neighbours(cells, i, j)\n",
    "        end\n",
    "    end\n",
    "    return counts\n",
    "end\n",
    "\n",
    "\"Find the next value of a GoL cell\"\n",
    "function update(previous, count)\n",
    "    new = previous\n",
    "    \n",
    "    # Living cells with less than 2 neighbours die\n",
    "    if previous == 1 && count < 2\n",
    "        new = 0\n",
    "    end\n",
    "        \n",
    "    # Living cells with more than 3 neighbours die.\n",
    "    if previous == 1 && count > 3\n",
    "        new = 0\n",
    "    end\n",
    "        \n",
    "    # Dead cells with 3 neighbours become alive.\n",
    "    if count == 3\n",
    "        new = 1\n",
    "    end\n",
    "    \n",
    "    return new\n",
    "end\n",
    "\n",
    "\"Update the GoL board one time step\"\n",
    "function update!(cells)\n",
    "    counts = count_neighbours(cells)\n",
    "    \n",
    "    # Here we update the array, so we need to index it \n",
    "    for i in 1:size(cells)[1]\n",
    "        # Loop over each cell in a row\n",
    "        for j in 1:size(cells)[2]\n",
    "            \n",
    "            cells[i,j] = update(cells[i,j], counts[i,j])\n",
    "        \n",
    "        end\n",
    "    end\n",
    "end"
   ]
  },
  {
   "cell_type": "code",
   "execution_count": null,
   "metadata": {},
   "outputs": [],
   "source": [
    "using DelimitedFiles #let's not forget this!\n",
    "cells = readdlm(\"../../data/pattern.txt\", ',', Int8)"
   ]
  },
  {
   "cell_type": "code",
   "execution_count": null,
   "metadata": {},
   "outputs": [],
   "source": [
    "update!(cells)\n",
    "cells"
   ]
  },
  {
   "cell_type": "markdown",
   "metadata": {},
   "source": [
    "### Formatting\n",
    "\n",
    "The file `\"../data/coordinates.txt\"` contains list of (x, y) value pairs. Read the values into an array using the `readdlm()` function. \n",
    "\n",
    "After that, write them into a file `coordinates.csv` using the CSV-format."
   ]
  },
  {
   "cell_type": "code",
   "execution_count": null,
   "metadata": {},
   "outputs": [],
   "source": [
    "using DelimitedFiles\n",
    "arr = readdlm(\"../../data/coordinates.txt\") # Note the extra \"../\" since we are one folder deeper.\n",
    "                                            # Your solution should only have one \"../\""
   ]
  },
  {
   "cell_type": "code",
   "execution_count": null,
   "metadata": {},
   "outputs": [],
   "source": [
    "writedlm(\"../../data/coordinates.csv\", arr, ',')"
   ]
  },
  {
   "cell_type": "markdown",
   "metadata": {},
   "source": [
    "### Advanced: Not so simple file reading\n",
    "\n",
    "Read the values of the `../data/coordinate.txt` into two arrays called `x` and `y` using the `open()`, `readline()` or `eachline()`, `close()` syntax.\n",
    "\n",
    "HINT: You will somehow need to parse each string of lines into numbers. Use the help and see what `split()` and `parse(Float64,... )` can do for you."
   ]
  },
  {
   "cell_type": "code",
   "execution_count": null,
   "metadata": {},
   "outputs": [],
   "source": [
    "x = Real[]\n",
    "y = Real[]\n",
    "open(\"../../data/coordinates.txt\", \"r\") do f\n",
    "    for line in eachline(f)\n",
    "        println(line)\n",
    "\n",
    "        a,b = parse.(Float64, split(line))\n",
    "        \n",
    "        push!(x, a)\n",
    "        push!(y, b)\n",
    "    end\n",
    "end"
   ]
  }
 ],
 "metadata": {
  "kernelspec": {
   "display_name": "Julia 1.6.0",
   "language": "julia",
   "name": "julia-1.6"
  },
  "language_info": {
   "file_extension": ".jl",
   "mimetype": "application/julia",
   "name": "julia",
   "version": "1.6.0"
  }
 },
 "nbformat": 4,
 "nbformat_minor": 2
}
