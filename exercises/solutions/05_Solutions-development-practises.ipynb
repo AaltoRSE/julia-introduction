{
 "cells": [
  {
   "cell_type": "markdown",
   "metadata": {},
   "source": [
    "# Exercises: development practises"
   ]
  },
  {
   "cell_type": "markdown",
   "metadata": {},
   "source": [
    "### Pretty functions\n",
    "\n",
    "Write a function called `blackbox`. It should behave such that it prints\n",
    "- `beeb` if no arguments are given\n",
    "- `beeb beeb` if 1 argument is given (use optional default argument)\n",
    "- `bzz bzz` if keyword argument `bzz` is `true`"
   ]
  },
  {
   "cell_type": "code",
   "execution_count": 7,
   "metadata": {},
   "outputs": [
    {
     "name": "stdout",
     "output_type": "stream",
     "text": [
      "beeb\n",
      "beeb beeb\n",
      "bzz bzz\n"
     ]
    }
   ],
   "source": [
    "function blackbox(beebeeb=:nothing ;bzz=false)\n",
    "    if bzz\n",
    "        return println(\"bzz bzz\")\n",
    "    end\n",
    "    \n",
    "    if beebeeb == :nothing\n",
    "        println(\"beeb\")\n",
    "    else\n",
    "        println(\"beeb beeb\")\n",
    "    end\n",
    "end\n",
    "blackbox()\n",
    "blackbox(1)\n",
    "blackbox(bzz=true)"
   ]
  },
  {
   "cell_type": "markdown",
   "metadata": {},
   "source": [
    "### Multiple dispatch\n",
    "Implement a set of functions with 1 input argument using multiple dispatch that prints\n",
    "- `integer` if the given value is integer\n",
    "- `real` if the given value is real (i.e., float) \n",
    "- `string` if the given value is `String`, and\n",
    "- `other` else\n",
    "\n",
    "Hint: It might help you to know that there exists such types as `Integer` and `AbstractFloat` in Julia."
   ]
  },
  {
   "cell_type": "code",
   "execution_count": 2,
   "metadata": {},
   "outputs": [
    {
     "data": {
      "text/html": [
       "4 methods for generic function <b>f</b>:<ul><li> f(v::<b>String</b>) at In[2]:3</li> <li> f(v::<b>AbstractFloat</b>) at In[2]:2</li> <li> f(v::<b>Integer</b>) at In[2]:4</li> <li> f(v) at In[2]:1</li> </ul>"
      ],
      "text/plain": [
       "# 4 methods for generic function \"f\":\n",
       "f(v::String) in Main at In[2]:3\n",
       "f(v::AbstractFloat) in Main at In[2]:2\n",
       "f(v::Integer) in Main at In[2]:4\n",
       "f(v) in Main at In[2]:1"
      ]
     },
     "execution_count": 2,
     "metadata": {},
     "output_type": "execute_result"
    }
   ],
   "source": [
    "f(v) = println(\"other\")\n",
    "f(v::Integer) = println(\"integer\")\n",
    "f(v::AbstractFloat) = println(\"real\")\n",
    "f(v::String)  = println(\"string\")\n",
    "\n",
    "methods(f)"
   ]
  },
  {
   "cell_type": "code",
   "execution_count": 8,
   "metadata": {},
   "outputs": [
    {
     "name": "stdout",
     "output_type": "stream",
     "text": [
      "integer\n",
      "real\n",
      "string\n",
      "other\n"
     ]
    }
   ],
   "source": [
    "f(1) \n",
    "f(1.0)\n",
    "f(\"1\")\n",
    "f([1,2,3])  # array as input"
   ]
  },
  {
   "cell_type": "markdown",
   "metadata": {},
   "source": [
    "### Dictionaries\n",
    "\n",
    "So far we have not used dictionaries a lot. They can, however, improve the readability of your code tremendously. \n",
    "\n",
    "Create a dictionary whose keys are the fruits “pineapple”, “strawberry”, and “banana”. As values use numbers representing e.g. prices.\n",
    "\n",
    "Add “orange” to the dictionary and then remove “banana” from the dictionary. Investigate the contents of dictionary and pay attention to the order of key-value pairs.\n",
    "\n",
    "Just to remind you, the syntax for dictionaries is `dict = Dict(\"a\" => 1, \"b\" => 2, \"c\" => 3)`. They can be modified with an aptly named `delete!()` function."
   ]
  },
  {
   "cell_type": "code",
   "execution_count": 3,
   "metadata": {},
   "outputs": [
    {
     "data": {
      "text/plain": [
       "Dict{String,Float64} with 3 entries:\n",
       "  \"strawberry\" => 9.99\n",
       "  \"banana\"     => 0.49\n",
       "  \"pineapple\"  => 2.99"
      ]
     },
     "execution_count": 3,
     "metadata": {},
     "output_type": "execute_result"
    }
   ],
   "source": [
    "fruits = Dict(\n",
    "    \"pineapple\" => 2.99,\n",
    "    \"strawberry\" => 9.99,\n",
    "    \"banana\" => 0.49\n",
    "    )"
   ]
  },
  {
   "cell_type": "code",
   "execution_count": 5,
   "metadata": {},
   "outputs": [
    {
     "data": {
      "text/plain": [
       "Dict{String,Float64} with 4 entries:\n",
       "  \"orange\"     => 1.99\n",
       "  \"strawberry\" => 9.99\n",
       "  \"banana\"     => 0.49\n",
       "  \"pineapple\"  => 2.99"
      ]
     },
     "execution_count": 5,
     "metadata": {},
     "output_type": "execute_result"
    }
   ],
   "source": [
    "fruits[\"orange\"] = 1.99\n",
    "fruits"
   ]
  },
  {
   "cell_type": "code",
   "execution_count": 6,
   "metadata": {},
   "outputs": [
    {
     "data": {
      "text/plain": [
       "Dict{String,Float64} with 3 entries:\n",
       "  \"orange\"     => 1.99\n",
       "  \"strawberry\" => 9.99\n",
       "  \"pineapple\"  => 2.99"
      ]
     },
     "execution_count": 6,
     "metadata": {},
     "output_type": "execute_result"
    }
   ],
   "source": [
    "delete!(fruits, \"banana\")"
   ]
  },
  {
   "cell_type": "markdown",
   "metadata": {},
   "source": [
    "### Advanced: Dictionaries for language processing\n",
    "\n",
    "This is a more complex use-case of dictionaries for processing a Sherlock Holmes book.\n",
    "\n",
    "To build the dictionary, we loop through the list of words, and use `get()` to look up the current tally, if any. If the word has already been seen, the count can be increased. If the word hasn't been seen before, the fall-back third argument of get() ensures that the absence doesn't cause an error, and 1 is stored instead."
   ]
  },
  {
   "cell_type": "code",
   "execution_count": 14,
   "metadata": {},
   "outputs": [],
   "source": [
    "#read file\n",
    "f = open(\"../data/sherlock-holmes.txt\")\n",
    "\n",
    "#first make everything lowercase\n",
    "#then use regexp to split by words\n",
    "#finally, keep=false means that characters in between words are not stored\n",
    "wordlist = split(lowercase(readstring(f)), r\"\\W\", keep=false)\n",
    "close(f)\n",
    "\n",
    "#To store the words and the word counts, we'll create a spesific dictionary:\n",
    "wordcounts = Dict{String,Int64}()\n",
    "\n",
    "#get word counts\n",
    "for word in wordlist\n",
    "    wordcounts[word]=get(wordcounts, word, 0) + 1\n",
    "end"
   ]
  },
  {
   "cell_type": "markdown",
   "metadata": {},
   "source": [
    "Now we have all the words read into the dictionary"
   ]
  },
  {
   "cell_type": "code",
   "execution_count": 15,
   "metadata": {},
   "outputs": [
    {
     "data": {
      "text/plain": [
       "Dict{String,Int64} with 8164 entries:\n",
       "  \"baleful\"        => 1\n",
       "  \"ferret\"         => 1\n",
       "  \"adviser\"        => 2\n",
       "  \"enjoy\"          => 1\n",
       "  \"shouldn\"        => 1\n",
       "  \"advertisements\" => 1\n",
       "  \"fight\"          => 3\n",
       "  \"princess\"       => 1\n",
       "  \"everywhere\"     => 1\n",
       "  \"surveyed\"       => 1\n",
       "  \"helping\"        => 1\n",
       "  \"frowning\"       => 1\n",
       "  \"whose\"          => 23\n",
       "  \"sleepless\"      => 1\n",
       "  \"hurried\"        => 22\n",
       "  \"incoherent\"     => 1\n",
       "  \"henry\"          => 10\n",
       "  \"skylight\"       => 4\n",
       "  \"borders\"        => 2\n",
       "  \"drawers\"        => 3\n",
       "  \"star\"           => 9\n",
       "  \"prick\"          => 1\n",
       "  \"strand\"         => 1\n",
       "  \"rejoin\"         => 1\n",
       "  \"plan\"           => 3\n",
       "  ⋮                => ⋮"
      ]
     },
     "execution_count": 15,
     "metadata": {},
     "output_type": "execute_result"
    }
   ],
   "source": [
    "wordcounts"
   ]
  },
  {
   "cell_type": "markdown",
   "metadata": {},
   "source": [
    "Try and analyze what are the most frequent words in our data set."
   ]
  },
  {
   "cell_type": "code",
   "execution_count": 22,
   "metadata": {},
   "outputs": [
    {
     "data": {
      "text/plain": [
       "20-element Array{Pair{String,Int64},1}:\n",
       " \"the\"=>5810 \n",
       " \"and\"=>3088 \n",
       " \"i\"=>3038   \n",
       " \"to\"=>2823  \n",
       " \"of\"=>2778  \n",
       " \"a\"=>2700   \n",
       " \"in\"=>1823  \n",
       " \"that\"=>1767\n",
       " \"it\"=>1749  \n",
       " \"you\"=>1572 \n",
       " \"he\"=>1486  \n",
       " \"was\"=>1411 \n",
       " \"his\"=>1159 \n",
       " \"is\"=>1150  \n",
       " \"my\"=>1007  \n",
       " \"have\"=>929 \n",
       " \"with\"=>877 \n",
       " \"as\"=>863   \n",
       " \"had\"=>830  \n",
       " \"at\"=>784   "
      ]
     },
     "execution_count": 22,
     "metadata": {},
     "output_type": "execute_result"
    }
   ],
   "source": [
    "# 20 most common words\n",
    "sort(collect(wordcounts), by = tuple -> last(tuple), rev=true)[1:20]"
   ]
  },
  {
   "cell_type": "code",
   "execution_count": null,
   "metadata": {},
   "outputs": [],
   "source": []
  }
 ],
 "metadata": {
  "kernelspec": {
   "display_name": "Julia 0.6.2",
   "language": "julia",
   "name": "julia-0.6"
  },
  "language_info": {
   "file_extension": ".jl",
   "mimetype": "application/julia",
   "name": "julia",
   "version": "0.6.2"
  }
 },
 "nbformat": 4,
 "nbformat_minor": 2
}
