{
 "cells": [
  {
   "cell_type": "markdown",
   "metadata": {},
   "source": [
    "# Exercises: development practises"
   ]
  },
  {
   "cell_type": "markdown",
   "metadata": {},
   "source": [
    "### Pretty functions\n",
    "\n",
    "Write a function called `blackbox`. It should behave such that it takes a number as an input and adds one to it. If a keyword argument `reverse=true` is also given, it should subtract one instead.\n"
   ]
  },
  {
   "cell_type": "code",
   "execution_count": 20,
   "metadata": {},
   "outputs": [
    {
     "data": {
      "text/plain": [
       "blackbox (generic function with 1 method)"
      ]
     },
     "execution_count": 20,
     "metadata": {},
     "output_type": "execute_result"
    }
   ],
   "source": [
    "function blackbox(x::Number ;reverse=false)\n",
    "    if reverse\n",
    "        return x-1\n",
    "    else\n",
    "        return x+1\n",
    "    end\n",
    "end"
   ]
  },
  {
   "cell_type": "code",
   "execution_count": 22,
   "metadata": {},
   "outputs": [
    {
     "data": {
      "text/plain": [
       "2"
      ]
     },
     "execution_count": 22,
     "metadata": {},
     "output_type": "execute_result"
    }
   ],
   "source": [
    "blackbox(1)"
   ]
  },
  {
   "cell_type": "code",
   "execution_count": 23,
   "metadata": {},
   "outputs": [
    {
     "data": {
      "text/plain": [
       "3.0"
      ]
     },
     "execution_count": 23,
     "metadata": {},
     "output_type": "execute_result"
    }
   ],
   "source": [
    "blackbox(2.0)"
   ]
  },
  {
   "cell_type": "code",
   "execution_count": 24,
   "metadata": {},
   "outputs": [
    {
     "data": {
      "text/plain": [
       "99"
      ]
     },
     "execution_count": 24,
     "metadata": {},
     "output_type": "execute_result"
    }
   ],
   "source": [
    "blackbox(100, reverse=true)"
   ]
  },
  {
   "cell_type": "markdown",
   "metadata": {},
   "source": [
    "Write another `blackbox2` function that behaves like the previous but when given two arguments it uses the second argument as the value it adds or substracts. With one argument it behaves like the previous function.\n",
    "\n",
    "Hint: remember optional argument that can be given a default value!"
   ]
  },
  {
   "cell_type": "code",
   "execution_count": 26,
   "metadata": {},
   "outputs": [
    {
     "data": {
      "text/plain": [
       "blackbox2 (generic function with 2 methods)"
      ]
     },
     "execution_count": 26,
     "metadata": {},
     "output_type": "execute_result"
    }
   ],
   "source": [
    "function blackbox2(x::Number, val=1;reverse=false)\n",
    "    if reverse\n",
    "        return x-val\n",
    "    else\n",
    "        return x+val\n",
    "    end\n",
    "end"
   ]
  },
  {
   "cell_type": "code",
   "execution_count": 27,
   "metadata": {},
   "outputs": [
    {
     "data": {
      "text/plain": [
       "15"
      ]
     },
     "execution_count": 27,
     "metadata": {},
     "output_type": "execute_result"
    }
   ],
   "source": [
    "blackbox2(10,5)"
   ]
  },
  {
   "cell_type": "code",
   "execution_count": 28,
   "metadata": {},
   "outputs": [
    {
     "data": {
      "text/plain": [
       "5"
      ]
     },
     "execution_count": 28,
     "metadata": {},
     "output_type": "execute_result"
    }
   ],
   "source": [
    "blackbox2(10,5,reverse=true)"
   ]
  },
  {
   "cell_type": "markdown",
   "metadata": {},
   "source": [
    "## Multiple dispatch"
   ]
  },
  {
   "cell_type": "markdown",
   "metadata": {},
   "source": [
    "Extend the function `foo`, adding a method that takes only one input argument, which is of type `Bool`, and prints \"foo with one boolean!\""
   ]
  },
  {
   "cell_type": "code",
   "execution_count": 12,
   "metadata": {},
   "outputs": [
    {
     "data": {
      "text/plain": [
       "foo (generic function with 1 method)"
      ]
     },
     "execution_count": 12,
     "metadata": {},
     "output_type": "execute_result"
    }
   ],
   "source": [
    "foo(x::Bool) = println(\"foo with one boolean!\")"
   ]
  },
  {
   "cell_type": "markdown",
   "metadata": {},
   "source": [
    "Check that the method being dispatched is the one you wrote by executing this:"
   ]
  },
  {
   "cell_type": "code",
   "execution_count": 13,
   "metadata": {},
   "outputs": [
    {
     "name": "stdout",
     "output_type": "stream",
     "text": [
      "foo with one boolean!\n"
     ]
    }
   ],
   "source": [
    "foo(true)"
   ]
  },
  {
   "cell_type": "code",
   "execution_count": 14,
   "metadata": {},
   "outputs": [
    {
     "data": {
      "text/html": [
       "foo(x::<b>Bool</b>) in Main at In[12]:1"
      ],
      "text/plain": [
       "foo(x::Bool) in Main at In[12]:1"
      ]
     },
     "execution_count": 14,
     "metadata": {},
     "output_type": "execute_result"
    }
   ],
   "source": [
    "@which foo(true)"
   ]
  },
  {
   "cell_type": "code",
   "execution_count": null,
   "metadata": {},
   "outputs": [],
   "source": []
  },
  {
   "cell_type": "markdown",
   "metadata": {},
   "source": [
    "Now, extend `foo` such that with it prints\n",
    "- `I am integer` if the given value is integer\n",
    "- `I am float` if the given value is floating point number (i.e., float) \n",
    "- `I am string` if the given value is `String`, and\n",
    "- `I am something else` else\n",
    "\n",
    "Hint: It might help you to know that there exists such types as `Integer` and `AbstractFloat` in Julia."
   ]
  },
  {
   "cell_type": "code",
   "execution_count": 18,
   "metadata": {},
   "outputs": [
    {
     "data": {
      "text/html": [
       "5 methods for generic function <b>foo</b>:<ul><li> foo(v::<b>String</b>) in Main at In[18]:4</li> <li> foo(x::<b>Bool</b>) in Main at In[12]:1</li> <li> foo(v::<b>Integer</b>) in Main at In[18]:2</li> <li> foo(v::<b>AbstractFloat</b>) in Main at In[18]:3</li> <li> foo(v) in Main at In[18]:1</li> </ul>"
      ],
      "text/plain": [
       "# 5 methods for generic function \"foo\":\n",
       "[1] foo(v::String) in Main at In[18]:4\n",
       "[2] foo(x::Bool) in Main at In[12]:1\n",
       "[3] foo(v::Integer) in Main at In[18]:2\n",
       "[4] foo(v::AbstractFloat) in Main at In[18]:3\n",
       "[5] foo(v) in Main at In[18]:1"
      ]
     },
     "execution_count": 18,
     "metadata": {},
     "output_type": "execute_result"
    }
   ],
   "source": [
    "foo(v) = println(\"I am something else\")\n",
    "foo(v::Integer) = println(\"I am integer\")\n",
    "foo(v::AbstractFloat) = println(\"I am float\")\n",
    "foo(v::String)  = println(\"I am string\")\n",
    "\n",
    "methods(foo)"
   ]
  },
  {
   "cell_type": "code",
   "execution_count": 19,
   "metadata": {},
   "outputs": [
    {
     "name": "stdout",
     "output_type": "stream",
     "text": [
      "I am integer\n",
      "I am float\n",
      "I am string\n",
      "I am something else\n"
     ]
    }
   ],
   "source": [
    "foo(1) \n",
    "foo(1.0)\n",
    "foo(\"1\")\n",
    "foo([1,2,3])  # array as input"
   ]
  },
  {
   "cell_type": "markdown",
   "metadata": {},
   "source": [
    "### Dictionaries\n",
    "\n",
    "So far we have not used dictionaries a lot. They can, however, improve the readability of your code tremendously. \n",
    "\n",
    "Create a dictionary whose keys are the fruits “pineapple”, “strawberry”, and “banana”. As values use numbers representing e.g. prices.\n",
    "\n",
    "Add “orange” to the dictionary and then remove “banana” from the dictionary. Investigate the contents of dictionary and pay attention to the order of key-value pairs.\n",
    "\n",
    "Just to remind you, the syntax for dictionaries is `dict = Dict(\"a\" => 1, \"b\" => 2, \"c\" => 3)`. They can be modified with an aptly named `delete!()` function."
   ]
  },
  {
   "cell_type": "code",
   "execution_count": 9,
   "metadata": {},
   "outputs": [
    {
     "data": {
      "text/plain": [
       "Dict{String,Float64} with 3 entries:\n",
       "  \"strawberry\" => 9.99\n",
       "  \"banana\"     => 0.49\n",
       "  \"pineapple\"  => 2.99"
      ]
     },
     "execution_count": 9,
     "metadata": {},
     "output_type": "execute_result"
    }
   ],
   "source": [
    "fruits = Dict(\n",
    "    \"pineapple\" => 2.99,\n",
    "    \"strawberry\" => 9.99,\n",
    "    \"banana\" => 0.49\n",
    "    )"
   ]
  },
  {
   "cell_type": "code",
   "execution_count": 10,
   "metadata": {},
   "outputs": [
    {
     "data": {
      "text/plain": [
       "Dict{String,Float64} with 4 entries:\n",
       "  \"orange\"     => 1.99\n",
       "  \"strawberry\" => 9.99\n",
       "  \"banana\"     => 0.49\n",
       "  \"pineapple\"  => 2.99"
      ]
     },
     "execution_count": 10,
     "metadata": {},
     "output_type": "execute_result"
    }
   ],
   "source": [
    "fruits[\"orange\"] = 1.99\n",
    "fruits"
   ]
  },
  {
   "cell_type": "code",
   "execution_count": 11,
   "metadata": {},
   "outputs": [
    {
     "data": {
      "text/plain": [
       "Dict{String,Float64} with 3 entries:\n",
       "  \"orange\"     => 1.99\n",
       "  \"strawberry\" => 9.99\n",
       "  \"pineapple\"  => 2.99"
      ]
     },
     "execution_count": 11,
     "metadata": {},
     "output_type": "execute_result"
    }
   ],
   "source": [
    "delete!(fruits, \"banana\")"
   ]
  },
  {
   "cell_type": "markdown",
   "metadata": {},
   "source": [
    "### Advanced: Dictionaries for language processing\n",
    "\n",
    "This is a more complex use-case of dictionaries for processing a Sherlock Holmes book.\n",
    "\n",
    "To build the dictionary, we loop through the list of words, and use `get()` to look up the current tally, if any. If the word has already been seen, the count can be increased. If the word hasn't been seen before, the fall-back third argument of get() ensures that the absence doesn't cause an error, and 1 is stored instead."
   ]
  },
  {
   "cell_type": "code",
   "execution_count": 6,
   "metadata": {},
   "outputs": [],
   "source": [
    "#read file\n",
    "f = open(\"../../data/sherlock-holmes.txt\")\n",
    "\n",
    "#first make everything lowercase\n",
    "#then use regexp to split by words\n",
    "#finally, keep=false means that characters in between words are not stored\n",
    "wordlist = split(lowercase(read(f, String)), r\"\\W\")\n",
    "close(f)\n",
    "\n",
    "#To store the words and the word counts, we'll create a spesific dictionary:\n",
    "wordcounts = Dict{String,Int64}()\n",
    "\n",
    "#get word counts\n",
    "for word in wordlist\n",
    "    wordcounts[word]=get(wordcounts, word, 0) + 1\n",
    "end"
   ]
  },
  {
   "cell_type": "markdown",
   "metadata": {},
   "source": [
    "Now we have all the words read into the dictionary"
   ]
  },
  {
   "cell_type": "code",
   "execution_count": 7,
   "metadata": {},
   "outputs": [
    {
     "data": {
      "text/plain": [
       "Dict{String,Int64} with 8167 entries:\n",
       "  \"baleful\"        => 1\n",
       "  \"ferret\"         => 1\n",
       "  \"adviser\"        => 2\n",
       "  \"enjoy\"          => 1\n",
       "  \"shouldn\"        => 1\n",
       "  \"advertisements\" => 1\n",
       "  \"fight\"          => 3\n",
       "  \"princess\"       => 1\n",
       "  \"everywhere\"     => 1\n",
       "  \"surveyed\"       => 1\n",
       "  \"helping\"        => 1\n",
       "  \"frowning\"       => 1\n",
       "  \"whose\"          => 23\n",
       "  \"sleepless\"      => 1\n",
       "  \"hurried\"        => 22\n",
       "  \"incoherent\"     => 1\n",
       "  \"henry\"          => 10\n",
       "  \"skylight\"       => 4\n",
       "  \"borders\"        => 2\n",
       "  \"drawers\"        => 3\n",
       "  \"star\"           => 9\n",
       "  \"prick\"          => 1\n",
       "  \"strand\"         => 1\n",
       "  \"rejoin\"         => 1\n",
       "  \"plan\"           => 3\n",
       "  ⋮                => ⋮"
      ]
     },
     "execution_count": 7,
     "metadata": {},
     "output_type": "execute_result"
    }
   ],
   "source": [
    "wordcounts"
   ]
  },
  {
   "cell_type": "markdown",
   "metadata": {},
   "source": [
    "Try and analyze what are the most frequent words in our data set."
   ]
  },
  {
   "cell_type": "code",
   "execution_count": 8,
   "metadata": {},
   "outputs": [
    {
     "data": {
      "text/plain": [
       "20-element Array{Pair{String,Int64},1}:\n",
       "     \"\" => 38049\n",
       "  \"the\" => 5810 \n",
       "  \"and\" => 3088 \n",
       "    \"i\" => 3038 \n",
       "   \"to\" => 2823 \n",
       "   \"of\" => 2778 \n",
       "    \"a\" => 2700 \n",
       "   \"in\" => 1823 \n",
       " \"that\" => 1767 \n",
       "   \"it\" => 1749 \n",
       "  \"you\" => 1572 \n",
       "   \"he\" => 1486 \n",
       "  \"was\" => 1411 \n",
       "  \"his\" => 1159 \n",
       "   \"is\" => 1150 \n",
       "   \"my\" => 1007 \n",
       " \"have\" => 929  \n",
       " \"with\" => 877  \n",
       "   \"as\" => 863  \n",
       "  \"had\" => 830  "
      ]
     },
     "execution_count": 8,
     "metadata": {},
     "output_type": "execute_result"
    }
   ],
   "source": [
    "# 20 most common words\n",
    "sort(collect(wordcounts), by = tuple -> last(tuple), rev=true)[1:20]"
   ]
  },
  {
   "cell_type": "code",
   "execution_count": null,
   "metadata": {},
   "outputs": [],
   "source": []
  }
 ],
 "metadata": {
  "kernelspec": {
   "display_name": "Julia 1.0.3",
   "language": "julia",
   "name": "julia-1.0"
  },
  "language_info": {
   "file_extension": ".jl",
   "mimetype": "application/julia",
   "name": "julia",
   "version": "1.0.3"
  }
 },
 "nbformat": 4,
 "nbformat_minor": 2
}
