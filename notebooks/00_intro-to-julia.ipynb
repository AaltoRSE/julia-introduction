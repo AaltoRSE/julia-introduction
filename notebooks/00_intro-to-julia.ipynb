{
 "cells": [
  {
   "cell_type": "markdown",
   "metadata": {
    "slideshow": {
     "slide_type": "slide"
    }
   },
   "source": [
    "# Introduction to Julia\n",
    "*\"Are you sitting comfortably? Then I'll begin.\"* - [Julia Lang](https://en.wikipedia.org/wiki/Julia_Lang)"
   ]
  },
  {
   "cell_type": "markdown",
   "metadata": {
    "slideshow": {
     "slide_type": "fragment"
    }
   },
   "source": [
    "## Learning outcomes \n",
    "\n",
    "- Learn basics of Julia\n",
    "- Get introduced to the (lively) Julia code ecosystem\n",
    "- Know where to look for more"
   ]
  },
  {
   "cell_type": "markdown",
   "metadata": {
    "slideshow": {
     "slide_type": "fragment"
    }
   },
   "source": [
    "## Target audience\n",
    "- Level of the content is aimed for beginners/intermediate students\n",
    "    - but interesting bonus remarks are added here and there for the more advanced students too!\n",
    "    - These notebooks should provide multiple [links](https://github.com/jupyter/jupyter/wiki/A-gallery-of-interesting-Jupyter-Notebooks#julia) to more advanced material and for [further reading](https://en.wikibooks.org/wiki/Introducing_Julia)"
   ]
  },
  {
   "cell_type": "markdown",
   "metadata": {
    "slideshow": {
     "slide_type": "slide"
    }
   },
   "source": [
    "## General remarks\n",
    "\n",
    "Julia is a high-level, high-performance dynamic programming language for numerical computing.\n",
    "\n",
    "### A summary of features:\n",
    "- Free and open source!\n",
    "- [Multiple dispatch](http://en.wikipedia.org/wiki/Multiple_dispatch)\n",
    "- Dynamic types\n",
    "- Good performance approaching that of statically-compiled languages like C\n",
    "- Built-in package manager\n",
    "- Lisp-like macros and other metaprogramming facilities\n",
    "- Call [Python functions](https://github.com/stevengj/PyCall.jl)\n",
    "- Call [C and Fortran functions](https://docs.julialang.org/en/v1/manual/calling-c-and-fortran-code/) directly\n",
    "- User-defined types are as fast and compact as built-ins because Julia is homoiconic"
   ]
  },
  {
   "cell_type": "markdown",
   "metadata": {
    "slideshow": {
     "slide_type": "slide"
    }
   },
   "source": [
    "## Open source\n",
    "Julia is open source, developed by a community. \n",
    "\n",
    "Licensed under MIT license. \n",
    "- open and permissive license\n",
    "\n",
    "This means it *is* and *will be* open source."
   ]
  },
  {
   "cell_type": "markdown",
   "metadata": {
    "slideshow": {
     "slide_type": "slide"
    }
   },
   "source": [
    "## High-performance JIT Compiler\n",
    "\n",
    "Julia's LLVM-based JIT compiler (Low level virtual machine just-in-time) compiler combined with the language's design allows it to approach and often match the performance of C in typical user scenarios."
   ]
  },
  {
   "cell_type": "markdown",
   "metadata": {
    "slideshow": {
     "slide_type": "slide"
    }
   },
   "source": [
    "### A simple [benchmark](https://julialang.org/benchmarks/) relative to C:\n",
    "\n",
    "![benchmarks](../slides/benchmarks.svg)"
   ]
  },
  {
   "cell_type": "markdown",
   "metadata": {
    "slideshow": {
     "slide_type": "slide"
    }
   },
   "source": [
    "## Versions\n",
    "\n",
    "Julia is evolving & actively being developed. Currently we are living in the `v1.5` era. \n",
    "\n",
    "### Time frame\n",
    "- started 2009 at MIT by Alan Edelman, Jeff Bezanson, Stefan Karpinski, Viral Shah\n",
    "- publicly announced 2012\n",
    "- `v0.6` 2017 Jun 19: pretty much the \"modern\" version of Julia\n",
    "    - Some old stuff you encounter in the internet is targeted for this. So be aware! \n",
    "- `v0.7` 2018 Aug 8: short test release before v1\n",
    "- `v1.0` 2018 Aug 9: Official release\n",
    "- `v1.1` 2019 Jan 22: minor improvements & bug fixes\n",
    "- `v1.2` 2019 Aug 20\n",
    "- `v1.3` 2019 Nov 26\n",
    "- `v1.4` 2020 Mar 21\n",
    "- `v1.5` 2020 Aug 2"
   ]
  },
  {
   "cell_type": "markdown",
   "metadata": {
    "slideshow": {
     "slide_type": "slide"
    }
   },
   "source": [
    "## Syntax"
   ]
  },
  {
   "cell_type": "code",
   "execution_count": null,
   "metadata": {
    "scrolled": false,
    "slideshow": {
     "slide_type": "fragment"
    }
   },
   "outputs": [],
   "source": [
    "# This is a comment. Julia will ignore anything that starts with a #\n",
    "function mandel(z)\n",
    "    c = z\n",
    "    maxiter = 40\n",
    "    for n = 1:maxiter\n",
    "        if abs(z) > 2\n",
    "            return n-1\n",
    "        end\n",
    "        z = z^2 + c\n",
    "    end\n",
    "    return maxiter\n",
    "end\n",
    "\n",
    "# By the way, Julia supports some unicode characters not on your keyboard,\n",
    "# like β and ⋅. These are written with \\beta + <TAB> and \\cdot + <TAB>.\n",
    "\n",
    "[ mandel(complex(r,i)) for i=-1.:.2:1., r=-2.0:.2:0.5 ]\n",
    "[ i for i=-1.:.2:1., r=-2.0:.2:0.5 ]"
   ]
  },
  {
   "cell_type": "code",
   "execution_count": null,
   "metadata": {
    "slideshow": {
     "slide_type": "slide"
    }
   },
   "outputs": [],
   "source": [
    "using Statistics\n",
    "using LinearAlgebra\n",
    "\n",
    "function randmatstat(t)\n",
    "    n = 5\n",
    "    v = zeros(t)\n",
    "    w = zeros(t)\n",
    "    for i=1:t\n",
    "        a = randn(n,n)\n",
    "        b = randn(n,n)\n",
    "        c = randn(n,n)\n",
    "        d = randn(n,n)\n",
    "        P = [a b c d]\n",
    "        Q = [a b; c d]\n",
    "        v[i] = tr((P'*P)^4)\n",
    "        w[i] = tr((Q'*Q)^4)\n",
    "    end\n",
    "    return (std(v)/mean(v), std(w)/mean(w))\n",
    "end\n",
    "\n",
    "randmatstat(2)"
   ]
  },
  {
   "cell_type": "markdown",
   "metadata": {
    "slideshow": {
     "slide_type": "fragment"
    }
   },
   "source": [
    "Compare to [C implementation](https://github.com/JuliaLang/Microbenchmarks/blob/master/perf.c#L135) (although the comparison is not 100% fair)"
   ]
  },
  {
   "cell_type": "markdown",
   "metadata": {
    "slideshow": {
     "slide_type": "slide"
    }
   },
   "source": [
    "## First program"
   ]
  },
  {
   "cell_type": "code",
   "execution_count": null,
   "metadata": {
    "slideshow": {
     "slide_type": "fragment"
    }
   },
   "outputs": [],
   "source": [
    "println(\"hello world!\")"
   ]
  },
  {
   "cell_type": "markdown",
   "metadata": {
    "slideshow": {
     "slide_type": "fragment"
    }
   },
   "source": [
    "This can be run directly inside the `jupyter` notebook environment. But, you can also copy the command into file and run it from the command line\n",
    "\n",
    "```bash\n",
    "$ julia hello.jl\n",
    "```\n",
    "or within the Julia interpeter\n",
    "```\n",
    "julia> include(\"hello.jl\")\n",
    "```\n"
   ]
  },
  {
   "cell_type": "markdown",
   "metadata": {
    "slideshow": {
     "slide_type": "slide"
    }
   },
   "source": [
    "## Getting help\n",
    "The built-in `help` environment can be activated by pressing `?` inside the interactive julia interpreter (REPL)."
   ]
  },
  {
   "cell_type": "code",
   "execution_count": null,
   "metadata": {
    "slideshow": {
     "slide_type": "fragment"
    }
   },
   "outputs": [],
   "source": [
    "?println"
   ]
  }
 ],
 "metadata": {
  "celltoolbar": "Slideshow",
  "kernelspec": {
   "display_name": "Julia 1.6.0",
   "language": "julia",
   "name": "julia-1.6"
  },
  "language_info": {
   "file_extension": ".jl",
   "mimetype": "application/julia",
   "name": "julia",
   "version": "1.6.0"
  }
 },
 "nbformat": 4,
 "nbformat_minor": 2
}
