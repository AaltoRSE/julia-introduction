{
 "cells": [
  {
   "cell_type": "markdown",
   "metadata": {
    "slideshow": {
     "slide_type": "slide"
    }
   },
   "source": [
    "# Introduction to Julia"
   ]
  },
  {
   "cell_type": "markdown",
   "metadata": {
    "slideshow": {
     "slide_type": "fragment"
    }
   },
   "source": [
    "## Learning outcome \n",
    "\n",
    "- Learn basics of Julia\n",
    "- Get introduced to the (lively) Julia code ecosystem\n",
    "- Know where to look for more\n",
    "\n",
    "## Target audience\n",
    "- Level of the content is aimed for beginners/intermediate students\n",
    "    - but interesting bonus remarks are added here and there for the more advanced students too!\n",
    "    - These notebooks should provide multiple [links](https://github.com/jupyter/jupyter/wiki/A-gallery-of-interesting-Jupyter-Notebooks#julia) to more advanced material and for [futher reading](https://en.wikibooks.org/wiki/Introducing_Julia)"
   ]
  },
  {
   "cell_type": "markdown",
   "metadata": {
    "slideshow": {
     "slide_type": "slide"
    }
   },
   "source": [
    "## General remarks\n",
    "\n",
    "Julia is a high-level, high-performance dynamic programming language for numerical computing.\n",
    "\n",
    "### A summary of features:\n",
    "- Free and open source!\n",
    "- [Multiple dispatch](http://en.wikipedia.org/wiki/Multiple_dispatch)\n",
    "- Dynamic types\n",
    "- Good performance approaching that of statically-compiled languages like C\n",
    "- Built-in package manager\n",
    "- Lisp-like macros and other metaprogramming facilities\n",
    "- Call [Python functions](https://github.com/stevengj/PyCall.jl)\n",
    "- Call [C and Fortran functions](http://docs.julialang.org/en/stable/manual/calling-c-and-fortran-code/) directly\n",
    "- User-defined types are as fast and compact as built-ins because Julia is homoiconic"
   ]
  },
  {
   "cell_type": "markdown",
   "metadata": {
    "slideshow": {
     "slide_type": "slide"
    }
   },
   "source": [
    "## High-performance JIT Compiler\n",
    "\n",
    "Julia's LLVM-based just-in-time (JIT) compiler combined with the language's design allow it to approach and often match the performance of C. \n",
    "\n",
    "### A simple [benchmark](http://nbviewer.jupyter.org/url/julialang.org/benchmarks/benchmarks.ipynb) relative to C:\n",
    "\n",
    "![benchmarks](benchmarks.png)"
   ]
  },
  {
   "cell_type": "markdown",
   "metadata": {
    "slideshow": {
     "slide_type": "slide"
    }
   },
   "source": [
    "## Versions\n",
    "\n",
    "Julia is still evolving & being developed. Currently we are living in the `v0.6` era.\n",
    "\n",
    "### Time frame\n",
    "- `v0.4`: one of the first stable versions\n",
    "    - most of the stuff you encounter in the internet is targeted for this. So be aware! \n",
    "- `v0.6`: current modern version of Julia\n",
    "- `v1.0`: expected in about 1 year"
   ]
  },
  {
   "cell_type": "markdown",
   "metadata": {
    "slideshow": {
     "slide_type": "slide"
    }
   },
   "source": [
    "## Syntax"
   ]
  },
  {
   "cell_type": "code",
   "execution_count": null,
   "metadata": {
    "slideshow": {
     "slide_type": "fragment"
    }
   },
   "outputs": [],
   "source": [
    "function mandel(z)\n",
    "    c = z\n",
    "    maxiter = 80\n",
    "    for n = 1:maxiter\n",
    "        if abs2(z) > 4\n",
    "            return n-1\n",
    "        end\n",
    "        z = z^2 + c\n",
    "    end\n",
    "    return maxiter\n",
    "end"
   ]
  },
  {
   "cell_type": "markdown",
   "metadata": {
    "slideshow": {
     "slide_type": "slide"
    }
   },
   "source": [
    "## First program"
   ]
  },
  {
   "cell_type": "code",
   "execution_count": null,
   "metadata": {
    "slideshow": {
     "slide_type": "fragment"
    }
   },
   "outputs": [],
   "source": [
    "println(\"hello world!\")"
   ]
  },
  {
   "cell_type": "markdown",
   "metadata": {
    "slideshow": {
     "slide_type": "fragment"
    }
   },
   "source": [
    "This can be directly run inside the `jupyter` notebook environment, but you can also copy the text into file and run it from the command line\n",
    "\n",
    "```bash\n",
    "$ julia hello.jl\n",
    "```\n",
    "or within the Julia interpeter\n",
    "```\n",
    "julia> include(\"hello.jl\")\n",
    "```\n"
   ]
  },
  {
   "cell_type": "markdown",
   "metadata": {
    "slideshow": {
     "slide_type": "slide"
    }
   },
   "source": [
    "## Getting help\n",
    "The built-in `help` environment can be activated by pressing `?` inside the interactive julia interpreter (REPL)."
   ]
  },
  {
   "cell_type": "code",
   "execution_count": 4,
   "metadata": {
    "slideshow": {
     "slide_type": "fragment"
    }
   },
   "outputs": [
    {
     "name": "stdout",
     "output_type": "stream",
     "text": [
      "search: \u001b[1mp\u001b[22m\u001b[1mr\u001b[22m\u001b[1mi\u001b[22m\u001b[1mn\u001b[22m\u001b[1mt\u001b[22m\u001b[1ml\u001b[22m\u001b[1mn\u001b[22m \u001b[1mp\u001b[22m\u001b[1mr\u001b[22m\u001b[1mi\u001b[22m\u001b[1mn\u001b[22m\u001b[1mt\u001b[22m_with_co\u001b[1ml\u001b[22mor \u001b[1mp\u001b[22m\u001b[1mr\u001b[22m\u001b[1mi\u001b[22m\u001b[1mn\u001b[22m\u001b[1mt\u001b[22m \u001b[1mp\u001b[22m\u001b[1mr\u001b[22m\u001b[1mi\u001b[22m\u001b[1mn\u001b[22m\u001b[1mt\u001b[22m_shortest s\u001b[1mp\u001b[22m\u001b[1mr\u001b[22m\u001b[1mi\u001b[22m\u001b[1mn\u001b[22m\u001b[1mt\u001b[22m @\u001b[1mp\u001b[22m\u001b[1mr\u001b[22m\u001b[1mi\u001b[22m\u001b[1mn\u001b[22m\u001b[1mt\u001b[22mf is\u001b[1mp\u001b[22m\u001b[1mr\u001b[22m\u001b[1mi\u001b[22m\u001b[1mn\u001b[22m\u001b[1mt\u001b[22m\n",
      "\n"
     ]
    },
    {
     "data": {
      "text/markdown": [
       "```\n",
       "println(io::IO, xs...)\n",
       "```\n",
       "\n",
       "Print (using [`print`](@ref)) `xs` followed by a newline. If `io` is not supplied, prints to [`STDOUT`](@ref).\n"
      ],
      "text/plain": [
       "```\n",
       "println(io::IO, xs...)\n",
       "```\n",
       "\n",
       "Print (using [`print`](@ref)) `xs` followed by a newline. If `io` is not supplied, prints to [`STDOUT`](@ref).\n"
      ]
     },
     "execution_count": 4,
     "metadata": {},
     "output_type": "execute_result"
    }
   ],
   "source": [
    "?println"
   ]
  },
  {
   "cell_type": "code",
   "execution_count": null,
   "metadata": {},
   "outputs": [],
   "source": []
  }
 ],
 "metadata": {
  "celltoolbar": "Slideshow",
  "kernelspec": {
   "display_name": "Julia 0.6.2",
   "language": "julia",
   "name": "julia-0.6"
  },
  "language_info": {
   "file_extension": ".jl",
   "mimetype": "application/julia",
   "name": "julia",
   "version": "0.6.2"
  }
 },
 "nbformat": 4,
 "nbformat_minor": 2
}
