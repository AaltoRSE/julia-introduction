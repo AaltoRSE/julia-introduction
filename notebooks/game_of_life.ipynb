{
 "cells": [
  {
   "cell_type": "code",
   "execution_count": null,
   "id": "a769aa56",
   "metadata": {
    "scrolled": true
   },
   "outputs": [],
   "source": [
    "import Pkg;\n",
    "Pkg.add(\"Plots\")\n",
    "Pkg.add(\"PlotlyJS\")\n",
    "Pkg.add(\"PyPlot\")\n",
    "Pkg.add(\"Colors\")"
   ]
  },
  {
   "cell_type": "code",
   "execution_count": null,
   "id": "9e3bc147",
   "metadata": {},
   "outputs": [],
   "source": [
    "# Pkg.build(\"Plots\") \n",
    "using Plots\n",
    "using Colors\n",
    "\n",
    "# Set the default plot size to something that fits a cell\n",
    "default(size = (800, 300))"
   ]
  },
  {
   "cell_type": "code",
   "execution_count": null,
   "id": "90dc9a4d",
   "metadata": {
    "scrolled": false
   },
   "outputs": [],
   "source": [
    "cells = zeros(Int8, 16,16)\n",
    "cells[1,3] = 1\n",
    "cells[2,3] = 1\n",
    "cells[3,3] = 1\n",
    "cells[3,2] = 1\n",
    "cells[2,1] = 1\n",
    "\n",
    "cells"
   ]
  },
  {
   "cell_type": "code",
   "execution_count": null,
   "id": "e1b6bf34",
   "metadata": {
    "scrolled": false
   },
   "outputs": [],
   "source": [
    "# Map the cells to colors\n",
    "to_colors(x) = x == 1 ? RGB(255/255,0,0) : RGB(1,1,1)\n",
    "\n",
    "# plot the color matrix\n",
    "plot(to_colors.(cells), legend=false, border=:none)"
   ]
  },
  {
   "cell_type": "code",
   "execution_count": null,
   "id": "3baec934",
   "metadata": {
    "scrolled": false
   },
   "outputs": [],
   "source": [
    "function start_flier()\n",
    "    cells = zeros(Int8, 8,8)\n",
    "    cells[1,3] = 1\n",
    "    cells[2,3] = 1\n",
    "    cells[3,3] = 1\n",
    "    cells[3,2] = 1\n",
    "    cells[2,1] = 1\n",
    "    return cells\n",
    "end\n",
    "    \n",
    "function count_neighbours(cells)\n",
    "    counts = zeros(Int8, size(cells))\n",
    "    for i in 1:size(cells)[1]-1\n",
    "        for j in 1:size(cells)[2]\n",
    "            counts[i,j] += cells[i+1,j]\n",
    "            counts[i+1,j] += cells[i,j]\n",
    "        end\n",
    "    end\n",
    "    for i in 1:size(cells)[1]\n",
    "        for j in 1:size(cells)[2]-1\n",
    "            counts[i,j] += cells[i,j+1]\n",
    "            counts[i,j+1] += cells[i,j]\n",
    "        end\n",
    "    end\n",
    "    for i in 1:size(cells)[1]-1\n",
    "        for j in 1:size(cells)[2]-1\n",
    "            counts[i,j] += cells[i+1,j+1]\n",
    "            counts[i,j+1] += cells[i+1,j]\n",
    "            counts[i+1,j] += cells[i,j+1]\n",
    "            counts[i+1,j+1] += cells[i,j]\n",
    "        end\n",
    "    end\n",
    "    return counts\n",
    "end\n",
    "\n",
    "function update(cells)\n",
    "    counts = count_neighbours(cells)\n",
    "    for i in 1:size(cells)[1]\n",
    "        for j in 1:size(cells)[2]\n",
    "            if counts[i,j] < 2\n",
    "                cells[i,j] = 0\n",
    "            end\n",
    "            if counts[i,j] > 3\n",
    "                cells[i,j] = 0\n",
    "            end\n",
    "            if counts[i,j] == 3\n",
    "                cells[i,j] = 1\n",
    "            end\n",
    "        end\n",
    "    end\n",
    "    return cells\n",
    "end\n",
    "cells = start_flier()\n",
    "update(update(update(update(update(update(cells))))))"
   ]
  },
  {
   "cell_type": "code",
   "execution_count": null,
   "id": "6a056091",
   "metadata": {
    "scrolled": true
   },
   "outputs": [],
   "source": [
    "cells = start_flier()\n",
    "\n",
    "anim = @animate for i ∈ 1:20\n",
    "    if i > 1\n",
    "        cells = update(cells)\n",
    "    end\n",
    "    plot(to_colors.(cells), legend=false, border=:none)\n",
    "end\n",
    "gif(anim, \"anim_fps15.gif\", fps = 2)"
   ]
  },
  {
   "cell_type": "code",
   "execution_count": null,
   "id": "d99dab20",
   "metadata": {},
   "outputs": [],
   "source": []
  }
 ],
 "metadata": {
  "kernelspec": {
   "display_name": "Julia 1.6.0",
   "language": "julia",
   "name": "julia-1.6"
  },
  "language_info": {
   "file_extension": ".jl",
   "mimetype": "application/julia",
   "name": "julia",
   "version": "1.6.0"
  }
 },
 "nbformat": 4,
 "nbformat_minor": 5
}
