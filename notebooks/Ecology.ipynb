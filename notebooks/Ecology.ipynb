{
 "cells": [
  {
   "cell_type": "code",
   "execution_count": null,
   "id": "d2e8d10f",
   "metadata": {},
   "outputs": [],
   "source": [
    "# Pkg.build(\"Plots\") \n",
    "using Plots\n",
    "using Colors\n",
    "\n",
    "# Set the default plot size to something that fits a cell\n",
    "default(size = (800, 300))"
   ]
  },
  {
   "cell_type": "code",
   "execution_count": null,
   "id": "b8ad636e",
   "metadata": {},
   "outputs": [],
   "source": [
    "spread_propability = 0.3\n",
    "death_probability = 0.3"
   ]
  },
  {
   "cell_type": "code",
   "execution_count": null,
   "id": "64a1d217",
   "metadata": {
    "scrolled": false
   },
   "outputs": [],
   "source": [
    "@enum VegetationType forest field knotweed\n",
    "\n",
    "mutable struct Vegetation\n",
    "    status::VegetationType\n",
    "end\n",
    "\n",
    "\n",
    "function create_map()\n",
    "    cells = Array{Vegetation}(undef, 16, 16)\n",
    "    for i in 1:size(cells)[1]\n",
    "        for j in 1:size(cells)[2]\n",
    "            cells[i,j] = Vegetation(field)\n",
    "        end\n",
    "    end\n",
    "    for i in 1:size(cells)[1]\n",
    "        cells[i,1].status = forest\n",
    "    end\n",
    "    cells[1,2].status = forest\n",
    "    cells[2,2].status = forest\n",
    "    cells[1,3].status = forest\n",
    "    cells[2,3].status = knotweed\n",
    "    return cells\n",
    "end\n",
    "\n",
    "# Map the cells to colors\n",
    "function to_colors(cell::Vegetation)\n",
    "    if cell.status == forest\n",
    "        return RGB(0.0,0.8,0.0)\n",
    "    end\n",
    "    if cell.status == field\n",
    "        return RGB(0.5,1.0,0.5)\n",
    "    end\n",
    "    if cell.status == knotweed\n",
    "        return RGB(0.0,0.0,0.0)\n",
    "    end\n",
    "end\n",
    "\n",
    "function interact!(new_cell::Vegetation, other_cell::Vegetation)\n",
    "    if new_cell.status == field && other_cell.status == knotweed\n",
    "        if rand(1)[1] < spread_propability\n",
    "            new_cell.status = knotweed\n",
    "        end\n",
    "    end\n",
    "end\n",
    "\n",
    "function update!(new_cell::Vegetation)\n",
    "    if new_cell.status == knotweed\n",
    "        if rand(1)[1] < death_probability\n",
    "            new_cell.status = field\n",
    "        end\n",
    "    end\n",
    "end\n",
    "\n",
    "function update(cells::Matrix{Vegetation})\n",
    "    new_cells = deepcopy(cells)\n",
    "    for i in 1:size(cells)[1]\n",
    "        for j in 1:size(cells)[2]\n",
    "            update!(new_cells[i,j])\n",
    "        end\n",
    "    end\n",
    "    for i in 1:size(cells)[1]-1\n",
    "        for j in 1:size(cells)[2]\n",
    "            interact!(new_cells[i,j], cells[i+1,j])\n",
    "            interact!(new_cells[i+1,j], cells[i,j])\n",
    "        end\n",
    "    end\n",
    "    for i in 1:size(cells)[1]\n",
    "        for j in 1:size(cells)[2]-1\n",
    "            interact!(new_cells[i,j], cells[i,j+1])\n",
    "            interact!(new_cells[i,j+1], cells[i,j])\n",
    "        end\n",
    "    end\n",
    "    return new_cells\n",
    "end\n"
   ]
  },
  {
   "cell_type": "code",
   "execution_count": null,
   "id": "331a4169",
   "metadata": {},
   "outputs": [],
   "source": [
    "import Plots: plot\n",
    "\n",
    "function plot(cells::Matrix{Vegetation})\n",
    "    plot(to_colors.(cells), legend=false, border=:none)\n",
    "end\n",
    "\n",
    "cells = create_map()\n",
    "plot(cells)"
   ]
  },
  {
   "cell_type": "code",
   "execution_count": null,
   "id": "36536f30",
   "metadata": {
    "scrolled": false
   },
   "outputs": [],
   "source": [
    "cells = create_map()\n",
    "\n",
    "anim = @animate for i ∈ 1:20\n",
    "    if i > 1\n",
    "        cells = update(cells)\n",
    "    end\n",
    "    plot!(to_colors.(cells), legend=false, border=:none)\n",
    "end\n",
    "gif(anim, \"anim_fps15.gif\", fps = 2)"
   ]
  },
  {
   "cell_type": "code",
   "execution_count": null,
   "id": "98be3dfa",
   "metadata": {},
   "outputs": [],
   "source": []
  }
 ],
 "metadata": {
  "kernelspec": {
   "display_name": "Julia 1.6.0",
   "language": "julia",
   "name": "julia-1.6"
  },
  "language_info": {
   "file_extension": ".jl",
   "mimetype": "application/julia",
   "name": "julia",
   "version": "1.6.0"
  }
 },
 "nbformat": 4,
 "nbformat_minor": 5
}
