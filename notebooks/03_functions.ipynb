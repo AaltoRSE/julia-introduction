{
 "cells": [
  {
   "cell_type": "markdown",
   "metadata": {
    "slideshow": {
     "slide_type": "slide"
    }
   },
   "source": [
    "# Functions"
   ]
  },
  {
   "cell_type": "markdown",
   "metadata": {
    "slideshow": {
     "slide_type": "fragment"
    }
   },
   "source": [
    "## Topics\n",
    "- How to declare a function\n",
    "- Duck-typing in Julia\n",
    "- Mutating vs. non-mutating functions\n",
    "- Some higher-order functions"
   ]
  },
  {
   "cell_type": "markdown",
   "metadata": {
    "slideshow": {
     "slide_type": "slide"
    }
   },
   "source": [
    "## Functions in a functional language\n",
    "Functions are the building blocks of Julia code, acting as the subroutines, procedures, blocks, and similar structural concepts found in other programming languages.\n",
    "\n",
    "- A function's job is to take a tuple of values as an argument list and return a value. \n",
    "- If the arguments contain mutable values like arrays, the array can be modified inside the function. \n",
    "    - By convention, an exclamation mark (!) at the end of a function's name indicates that the function may modify its arguments."
   ]
  },
  {
   "cell_type": "markdown",
   "metadata": {
    "slideshow": {
     "slide_type": "slide"
    }
   },
   "source": [
    "## How to declare a function\n",
    "\n",
    "Julia gives us a few different ways to write a function. The first (and most standard) requires `function` and `end` keywords."
   ]
  },
  {
   "cell_type": "code",
   "execution_count": null,
   "metadata": {
    "slideshow": {
     "slide_type": "fragment"
    }
   },
   "outputs": [],
   "source": [
    "function sayhi(name)\n",
    "    println(\"Hi $name, nice to meet you!\")\n",
    "end\n",
    "\n",
    "sayhi(\"R2D2\")"
   ]
  },
  {
   "cell_type": "code",
   "execution_count": null,
   "metadata": {
    "slideshow": {
     "slide_type": "fragment"
    }
   },
   "outputs": [],
   "source": [
    "function f(x)\n",
    "    return x^2\n",
    "end\n",
    "\n",
    "f(42)"
   ]
  },
  {
   "cell_type": "markdown",
   "metadata": {
    "slideshow": {
     "slide_type": "slide"
    }
   },
   "source": [
    "## Single line function definitions\n",
    "Alternatively, we could have spared a few lines of code and written:"
   ]
  },
  {
   "cell_type": "code",
   "execution_count": null,
   "metadata": {
    "slideshow": {
     "slide_type": "fragment"
    }
   },
   "outputs": [],
   "source": [
    "sayhi2(name) = println(\"Hi $name, nice to meet you!\")"
   ]
  },
  {
   "cell_type": "code",
   "execution_count": null,
   "metadata": {
    "slideshow": {
     "slide_type": "fragment"
    }
   },
   "outputs": [],
   "source": [
    "f2(x) = x^2"
   ]
  },
  {
   "cell_type": "markdown",
   "metadata": {
    "slideshow": {
     "slide_type": "slide"
    }
   },
   "source": [
    "## Anonymous functions\n",
    "Or we could have declared them as \"anonymous\" functions as"
   ]
  },
  {
   "cell_type": "code",
   "execution_count": null,
   "metadata": {
    "slideshow": {
     "slide_type": "fragment"
    }
   },
   "outputs": [],
   "source": [
    "sayhi3 = name -> println(\"Hi $name, nice to meet you!\")"
   ]
  },
  {
   "cell_type": "code",
   "execution_count": null,
   "metadata": {
    "slideshow": {
     "slide_type": "fragment"
    }
   },
   "outputs": [],
   "source": [
    "f3 = x -> x^2"
   ]
  },
  {
   "cell_type": "markdown",
   "metadata": {
    "slideshow": {
     "slide_type": "slide"
    }
   },
   "source": [
    "## Duck-typing in Julia\n",
    "*\"If it quacks like a duck, it's a duck.\"*\n",
    "\n",
    "Julia functions will just work on whatever input makes sense. For example, `sayhi` works also with the name written as an integer:"
   ]
  },
  {
   "cell_type": "code",
   "execution_count": 3,
   "metadata": {
    "slideshow": {
     "slide_type": "fragment"
    }
   },
   "outputs": [
    {
     "name": "stdout",
     "output_type": "stream",
     "text": [
      "Hi 55595472, nice to meet you!\n"
     ]
    }
   ],
   "source": [
    "sayhi(55595472)"
   ]
  },
  {
   "cell_type": "markdown",
   "metadata": {
    "slideshow": {
     "slide_type": "fragment"
    }
   },
   "source": [
    "And `f` will work on a matrix"
   ]
  },
  {
   "cell_type": "code",
   "execution_count": null,
   "metadata": {
    "slideshow": {
     "slide_type": "fragment"
    }
   },
   "outputs": [],
   "source": [
    "A = rand(3,3)\n",
    "A"
   ]
  },
  {
   "cell_type": "code",
   "execution_count": null,
   "metadata": {
    "slideshow": {
     "slide_type": "fragment"
    }
   },
   "outputs": [],
   "source": [
    "f(A)"
   ]
  },
  {
   "cell_type": "markdown",
   "metadata": {
    "slideshow": {
     "slide_type": "slide"
    }
   },
   "source": [
    "## Mutating vs. non-mutating functions\n",
    "By convention, functions followed by `!` alter their contents and functions lacking `!` do not.\n",
    "\n",
    "For example, let's look at the difference between `sort` and `sort!`."
   ]
  },
  {
   "cell_type": "code",
   "execution_count": null,
   "metadata": {
    "slideshow": {
     "slide_type": "fragment"
    }
   },
   "outputs": [],
   "source": [
    "v = [3,5,2]"
   ]
  },
  {
   "cell_type": "code",
   "execution_count": 6,
   "metadata": {
    "slideshow": {
     "slide_type": "fragment"
    }
   },
   "outputs": [
    {
     "data": {
      "text/plain": [
       "3-element Array{Int64,1}:\n",
       " 2\n",
       " 3\n",
       " 5"
      ]
     },
     "execution_count": 6,
     "metadata": {},
     "output_type": "execute_result"
    }
   ],
   "source": [
    "sort(v)"
   ]
  },
  {
   "cell_type": "code",
   "execution_count": 7,
   "metadata": {
    "slideshow": {
     "slide_type": "fragment"
    }
   },
   "outputs": [
    {
     "data": {
      "text/plain": [
       "3-element Array{Int64,1}:\n",
       " 3\n",
       " 5\n",
       " 2"
      ]
     },
     "execution_count": 7,
     "metadata": {},
     "output_type": "execute_result"
    }
   ],
   "source": [
    "v"
   ]
  },
  {
   "cell_type": "markdown",
   "metadata": {
    "slideshow": {
     "slide_type": "slide"
    }
   },
   "source": [
    "`sort(v)` returns a sorted array that contains the same elements as `v`, but `v` is left unchanged.\n",
    "\n",
    "On the other hand, when we run `sort!(v)` the content of `v` is really modified."
   ]
  },
  {
   "cell_type": "code",
   "execution_count": null,
   "metadata": {
    "slideshow": {
     "slide_type": "fragment"
    }
   },
   "outputs": [],
   "source": [
    "sort!(v)"
   ]
  },
  {
   "cell_type": "code",
   "execution_count": 9,
   "metadata": {
    "slideshow": {
     "slide_type": "fragment"
    }
   },
   "outputs": [
    {
     "data": {
      "text/plain": [
       "3-element Array{Int64,1}:\n",
       " 2\n",
       " 3\n",
       " 5"
      ]
     },
     "execution_count": 9,
     "metadata": {},
     "output_type": "execute_result"
    }
   ],
   "source": [
    "v"
   ]
  },
  {
   "cell_type": "markdown",
   "metadata": {
    "slideshow": {
     "slide_type": "slide"
    }
   },
   "source": [
    "## Some higher-order functions: `map`\n",
    "\n",
    "`map` is a \"higher-order\" function in Julia that takes a *function* as one of its input arguments. `map` then applies that function to every element of the data structure you pass. \n",
    "\n",
    "For example\n",
    "```julia\n",
    "map(f, [1,2,3])\n",
    "```\n",
    "will correspond to\n",
    "```julia\n",
    "[f(1), f(2), f(3)]\n",
    "```"
   ]
  },
  {
   "cell_type": "markdown",
   "metadata": {
    "slideshow": {
     "slide_type": "slide"
    }
   },
   "source": [
    "## Some higher-order functions: `broadcast`\n",
    "`broadcast` is another higher-order function like `map`. `broadcast` is actually a generalization, so it can do what `map` but also more!\n",
    "\n",
    "Syntax is the same\n",
    "```julia\n",
    "broadcast(f, [1,2,3])\n",
    "```\n",
    "\n",
    "And so we have again applied f (squared) to all elements of `[1,2,3]`. "
   ]
  },
  {
   "cell_type": "markdown",
   "metadata": {
    "slideshow": {
     "slide_type": "slide"
    }
   },
   "source": [
    "## Broadcasting (or vectorizing)\n",
    "Some syntactic sugar for calling `broadcast` is to place `.` between the name of the function you want to broadcast and its input arguments. \n",
    "        \n",
    "For example\n",
    "```julia\n",
    "broadcast(f, [1,2,3])\n",
    "```\n",
    "is the same as\n",
    "```julia\n",
    "f.([1,2,3])\n",
    "```\n",
    "\n",
    "Note that this is not the same as `f([1,2,3])` because we can not square a vector!"
   ]
  },
  {
   "cell_type": "markdown",
   "metadata": {
    "slideshow": {
     "slide_type": "slide"
    }
   },
   "source": [
    "Let's try broadcasting for a matrix `A`"
   ]
  },
  {
   "cell_type": "code",
   "execution_count": 10,
   "metadata": {
    "slideshow": {
     "slide_type": "fragment"
    }
   },
   "outputs": [
    {
     "data": {
      "text/plain": [
       "3×3 Array{Int64,2}:\n",
       " 1  2  3\n",
       " 4  5  6\n",
       " 7  8  9"
      ]
     },
     "execution_count": 10,
     "metadata": {},
     "output_type": "execute_result"
    }
   ],
   "source": [
    "A = [i + 3j for j in 0:2, i in 1:3]"
   ]
  },
  {
   "cell_type": "code",
   "execution_count": 11,
   "metadata": {
    "slideshow": {
     "slide_type": "fragment"
    }
   },
   "outputs": [
    {
     "data": {
      "text/plain": [
       "3×3 Array{Int64,2}:\n",
       "  30   36   42\n",
       "  66   81   96\n",
       " 102  126  150"
      ]
     },
     "execution_count": 11,
     "metadata": {},
     "output_type": "execute_result"
    }
   ],
   "source": [
    "f(A)"
   ]
  },
  {
   "cell_type": "code",
   "execution_count": 12,
   "metadata": {
    "slideshow": {
     "slide_type": "fragment"
    }
   },
   "outputs": [
    {
     "data": {
      "text/plain": [
       "3×3 Array{Int64,2}:\n",
       "  1   4   9\n",
       " 16  25  36\n",
       " 49  64  81"
      ]
     },
     "execution_count": 12,
     "metadata": {},
     "output_type": "execute_result"
    }
   ],
   "source": [
    "B = f.(A)"
   ]
  },
  {
   "cell_type": "markdown",
   "metadata": {
    "slideshow": {
     "slide_type": "slide"
    }
   },
   "source": [
    "## Dot syntax for vectorization\n",
    "The dot syntax allows to write complex compound **elementwise** expressions in a way that looks natural/closer to mathematical notation. \n",
    "\n",
    "For example:"
   ]
  },
  {
   "cell_type": "code",
   "execution_count": null,
   "metadata": {
    "slideshow": {
     "slide_type": "fragment"
    }
   },
   "outputs": [],
   "source": [
    "A .+ 2 .* f.(A) ./ A"
   ]
  },
  {
   "cell_type": "markdown",
   "metadata": {
    "slideshow": {
     "slide_type": "fragment"
    }
   },
   "source": [
    "Instead of the more nasty looking version with `broadcast` as"
   ]
  },
  {
   "cell_type": "code",
   "execution_count": null,
   "metadata": {
    "slideshow": {
     "slide_type": "fragment"
    }
   },
   "outputs": [],
   "source": [
    "broadcast(x-> x + 2 * f(x) / x, A) "
   ]
  },
  {
   "cell_type": "markdown",
   "metadata": {
    "slideshow": {
     "slide_type": "skip"
    }
   },
   "source": [
    "### Advanced: SIMD vectorization\n",
    "Vectorization is discussed more in the bonus notebook about SIMD vectorization.\n",
    "\n",
    "In short, the topic is quite technical but you should rest assured that the dot syntax actually works quite well to make your code easy to read and fast to run."
   ]
  },
  {
   "cell_type": "markdown",
   "metadata": {
    "slideshow": {
     "slide_type": "slide"
    }
   },
   "source": [
    "## Macros\n",
    "Finally, let's touch the metaprogramming capabilities of Julia. \n",
    "\n",
    "Since metaprogramming is a whole another topic (see bonus notebook) we will only cover the very basics of something you might encounter when dealing with Julia code: macros."
   ]
  },
  {
   "cell_type": "markdown",
   "metadata": {
    "slideshow": {
     "slide_type": "slide"
    }
   },
   "source": [
    "Macros provide a method to include generated code in the final body of a program. A macro maps a tuple of arguments to a returned **expression**, and the resulting expression is compiled directly.\n",
    "\n",
    "This means that macros can change how functions work, hence the *meta* in metaprogramming."
   ]
  },
  {
   "cell_type": "code",
   "execution_count": 2,
   "metadata": {
    "slideshow": {
     "slide_type": "fragment"
    }
   },
   "outputs": [
    {
     "data": {
      "text/plain": [
       "@sayhello (macro with 1 method)"
      ]
     },
     "execution_count": 2,
     "metadata": {},
     "output_type": "execute_result"
    }
   ],
   "source": [
    "macro sayhello()\n",
    "    return :( println(\"Hello, world!\") )\n",
    "end"
   ]
  },
  {
   "cell_type": "markdown",
   "metadata": {
    "slideshow": {
     "slide_type": "slide"
    }
   },
   "source": [
    "## Macro incovation\n",
    "Macros are invoked with the following general syntax:\n",
    "```julia\n",
    "@name expr1 expr2 ...\n",
    "@name(expr1, expr2, ...)\n",
    "```"
   ]
  },
  {
   "cell_type": "code",
   "execution_count": 3,
   "metadata": {
    "slideshow": {
     "slide_type": "fragment"
    }
   },
   "outputs": [
    {
     "name": "stdout",
     "output_type": "stream",
     "text": [
      "Hello, world!\n"
     ]
    }
   ],
   "source": [
    "@sayhello"
   ]
  },
  {
   "cell_type": "markdown",
   "metadata": {
    "slideshow": {
     "slide_type": "slide"
    }
   },
   "source": [
    "## Hold up: why macros?\n",
    "So, why do macros exist?\n",
    "\n",
    "Macros are necessary because they execute when code is parsed, therefore, macros allow the programmer to generate and include fragments of customized code before the full program is run. To illustrate the usefullness, consider the following example:"
   ]
  },
  {
   "cell_type": "code",
   "execution_count": 6,
   "metadata": {
    "slideshow": {
     "slide_type": "fragment"
    }
   },
   "outputs": [
    {
     "name": "stdout",
     "output_type": "stream",
     "text": [
      "  0.066912 seconds (16.15 k allocations: 8.519 MiB)\n"
     ]
    },
    {
     "data": {
      "text/plain": [
       "1000×1000 Array{Float64,2}:\n",
       " 0.912719   0.189025  0.366556  …  0.87983    0.814395   0.337051 \n",
       " 0.823561   0.31102   0.805134     0.656636   0.304251   0.323364 \n",
       " 0.169119   0.810536  0.765534     0.724742   0.157992   0.665682 \n",
       " 0.35669    0.775315  0.476709     0.77733    0.173054   0.312263 \n",
       " 0.903289   0.167436  0.514659     0.289439   0.818487   0.0238975\n",
       " 0.202392   0.717574  0.466968  …  0.279201   0.194108   0.892199 \n",
       " 0.723399   0.93769   0.279434     0.137549   0.663494   0.26093  \n",
       " 0.256405   0.797341  0.487486     0.275435   0.234003   0.936154 \n",
       " 0.171918   0.57816   0.98195      0.908332   0.390399   0.280217 \n",
       " 0.715915   0.462766  0.368655     0.851541   0.291358   0.0882497\n",
       " 0.960123   0.393912  0.178628  …  0.891452   0.807812   0.802514 \n",
       " 0.530356   0.390743  0.675238     0.554256   0.629022   0.489092 \n",
       " 0.0909845  0.936716  0.978079     0.0733218  0.275495   0.721621 \n",
       " ⋮                              ⋱                                 \n",
       " 0.281875   0.788226  0.241709     0.569441   0.582256   0.470423 \n",
       " 0.897929   0.111559  0.653715     0.459698   0.0139889  0.264568 \n",
       " 0.631404   0.328036  0.40876   …  0.115212   0.611235   0.275253 \n",
       " 0.569751   0.233644  0.384716     0.517909   0.823662   0.429262 \n",
       " 0.729475   0.918015  0.590481     0.797055   0.424456   0.395472 \n",
       " 0.839089   0.321861  0.299074     0.540301   0.851611   0.545319 \n",
       " 0.106125   0.717701  0.110039     0.832777   0.807711   0.501349 \n",
       " 0.904807   0.668751  0.161057  …  0.434213   0.713436   0.585419 \n",
       " 0.168417   0.711948  0.658882     0.25551    0.245838   0.594873 \n",
       " 0.288115   0.349552  0.226782     0.217056   0.601524   0.556465 \n",
       " 0.570608   0.91382   0.285224     0.29408    0.435566   0.21395  \n",
       " 0.486676   0.155564  0.705279     0.587776   0.167416   0.729996 "
      ]
     },
     "execution_count": 6,
     "metadata": {},
     "output_type": "execute_result"
    }
   ],
   "source": [
    "@time A = rand(10^3, 10^3)"
   ]
  },
  {
   "cell_type": "code",
   "execution_count": null,
   "metadata": {},
   "outputs": [],
   "source": []
  }
 ],
 "metadata": {
  "celltoolbar": "Slideshow",
  "kernelspec": {
   "display_name": "Julia 0.6.2",
   "language": "julia",
   "name": "julia-0.6"
  },
  "language_info": {
   "file_extension": ".jl",
   "mimetype": "application/julia",
   "name": "julia",
   "version": "0.6.2"
  }
 },
 "nbformat": 4,
 "nbformat_minor": 2
}
