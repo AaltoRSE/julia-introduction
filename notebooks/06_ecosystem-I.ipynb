{
 "cells": [
  {
   "cell_type": "markdown",
   "metadata": {
    "slideshow": {
     "slide_type": "slide"
    }
   },
   "source": [
    "# Julia ecosystem I"
   ]
  },
  {
   "cell_type": "markdown",
   "metadata": {
    "slideshow": {
     "slide_type": "fragment"
    }
   },
   "source": [
    "## Topics\n",
    "- Packages\n",
    "- Plotting & visualization"
   ]
  },
  {
   "cell_type": "markdown",
   "metadata": {
    "slideshow": {
     "slide_type": "slide"
    }
   },
   "source": [
    "## Packages\n",
    "Julia has about 1700 registered packages, making packages a huge part of the Julia ecosystem.\n",
    "\n",
    "Even so, the package ecosystem still has some growing to do. Notably, we have first class function calls to other languages, providing excellent foreign function interfaces. We can easily call into python or R, for example, with `PyCall` or `Rcall`.\n",
    "\n",
    "This means that you don't have to wait until the Julia ecosystem is fully mature, and that moving to Julia doesn't mean you have to give up your favorite package/library from another language!\n",
    "\n",
    "To see all available packages, check out\n",
    "\n",
    "https://pkg.julialang.org/ or https://juliaobserver.com/"
   ]
  },
  {
   "cell_type": "markdown",
   "metadata": {
    "slideshow": {
     "slide_type": "slide"
    }
   },
   "source": [
    "## Installing packages\n",
    "For now, let's learn how to use a package.\n",
    "\n",
    "Before anything, we have to activate the package manager by running `using Pkg`.\n",
    "\n",
    "The first time you use a package on a given Julia installation, you need to explicitly add it"
   ]
  },
  {
   "cell_type": "code",
   "execution_count": null,
   "metadata": {
    "slideshow": {
     "slide_type": "fragment"
    }
   },
   "outputs": [],
   "source": [
    "using Pkg\n",
    "Pkg.add(\"Example\")"
   ]
  },
  {
   "cell_type": "markdown",
   "metadata": {
    "slideshow": {
     "slide_type": "slide"
    }
   },
   "source": [
    "## Using packages\n",
    "Every time you use Julia (start a new session at the REPL, or open a notebook for the first time, for example), you load the package with the `using` keyword"
   ]
  },
  {
   "cell_type": "code",
   "execution_count": null,
   "metadata": {
    "slideshow": {
     "slide_type": "fragment"
    }
   },
   "outputs": [],
   "source": [
    "using Example"
   ]
  },
  {
   "cell_type": "markdown",
   "metadata": {
    "slideshow": {
     "slide_type": "fragment"
    }
   },
   "source": [
    "In the source code of `Example.jl` at https://github.com/JuliaLang/Example.jl/blob/master/src/Example.jl we see the following function declared\n",
    "\n",
    "```julia\n",
    "hello(who::String) = \"Hello, $who\"\n",
    "```\n",
    "Having loaded `Example`, we should now be able to call `hello`"
   ]
  },
  {
   "cell_type": "code",
   "execution_count": null,
   "metadata": {
    "slideshow": {
     "slide_type": "fragment"
    }
   },
   "outputs": [],
   "source": [
    "hello(\"Julia!\")"
   ]
  },
  {
   "cell_type": "markdown",
   "metadata": {
    "slideshow": {
     "slide_type": "slide"
    }
   },
   "source": [
    "## Demonstration with `Colors`\n",
    "Let's play with the `Colors` package to see this in action. \n",
    "\n",
    "NOTE: Notebooks are nicely integrated to show us the colors in realtime!"
   ]
  },
  {
   "cell_type": "code",
   "execution_count": null,
   "metadata": {
    "slideshow": {
     "slide_type": "fragment"
    }
   },
   "outputs": [],
   "source": [
    "Pkg.add(\"Colors\")"
   ]
  },
  {
   "cell_type": "code",
   "execution_count": null,
   "metadata": {
    "slideshow": {
     "slide_type": "fragment"
    }
   },
   "outputs": [],
   "source": [
    "using Colors"
   ]
  },
  {
   "cell_type": "code",
   "execution_count": 6,
   "metadata": {
    "slideshow": {
     "slide_type": "fragment"
    }
   },
   "outputs": [
    {
     "data": {
      "image/svg+xml": [
       "<?xml version=\"1.0\" encoding=\"UTF-8\"?>\n",
       "<!DOCTYPE svg PUBLIC \"-//W3C//DTD SVG 1.1//EN\"\n",
       " \"http://www.w3.org/Graphics/SVG/1.1/DTD/svg11.dtd\">\n",
       "<svg xmlns=\"http://www.w3.org/2000/svg\" version=\"1.1\"\n",
       "     width=\"180.0mm\" height=\"25.0mm\"\n",
       "     shape-rendering=\"crispEdges\">\n",
       "<rect x=\"0.0mm\" y=\"0.0mm\"\n",
       "      width=\"17.0mm\" height=\"24.0mm\"\n",
       "      fill=\"#EFFFFA\" stroke=\"none\" />\n",
       "<rect x=\"18.0mm\" y=\"0.0mm\"\n",
       "      width=\"17.0mm\" height=\"24.0mm\"\n",
       "      fill=\"#C6F9ED\" stroke=\"none\" />\n",
       "<rect x=\"36.0mm\" y=\"0.0mm\"\n",
       "      width=\"17.0mm\" height=\"24.0mm\"\n",
       "      fill=\"#A3EEE0\" stroke=\"none\" />\n",
       "<rect x=\"54.0mm\" y=\"0.0mm\"\n",
       "      width=\"17.0mm\" height=\"24.0mm\"\n",
       "      fill=\"#84DFD0\" stroke=\"none\" />\n",
       "<rect x=\"72.0mm\" y=\"0.0mm\"\n",
       "      width=\"17.0mm\" height=\"24.0mm\"\n",
       "      fill=\"#67CBBE\" stroke=\"none\" />\n",
       "<rect x=\"90.0mm\" y=\"0.0mm\"\n",
       "      width=\"17.0mm\" height=\"24.0mm\"\n",
       "      fill=\"#4EB4A8\" stroke=\"none\" />\n",
       "<rect x=\"108.0mm\" y=\"0.0mm\"\n",
       "      width=\"17.0mm\" height=\"24.0mm\"\n",
       "      fill=\"#38998E\" stroke=\"none\" />\n",
       "<rect x=\"126.0mm\" y=\"0.0mm\"\n",
       "      width=\"17.0mm\" height=\"24.0mm\"\n",
       "      fill=\"#237971\" stroke=\"none\" />\n",
       "<rect x=\"144.0mm\" y=\"0.0mm\"\n",
       "      width=\"17.0mm\" height=\"24.0mm\"\n",
       "      fill=\"#0F5650\" stroke=\"none\" />\n",
       "<rect x=\"162.0mm\" y=\"0.0mm\"\n",
       "      width=\"17.0mm\" height=\"24.0mm\"\n",
       "      fill=\"#02302B\" stroke=\"none\" />\n",
       "</svg>"
      ],
      "text/plain": [
       "10-element Array{RGB{Float64},1} with eltype RGB{Float64}:\n",
       " RGB{Float64}(0.9373902678076346,1.0,0.9809200338794376)                   \n",
       " RGB{Float64}(0.7754952578059581,0.9772217771323007,0.92931021228931)      \n",
       " RGB{Float64}(0.6401565313173854,0.9331507625027686,0.8766728692183546)    \n",
       " RGB{Float64}(0.5173790916505833,0.8730999971887063,0.8159193350290048)    \n",
       " RGB{Float64}(0.4055684060854063,0.7976108852751116,0.743696007695321)     \n",
       " RGB{Float64}(0.30705989114997767,0.7062506757913901,0.6578056303486459)   \n",
       " RGB{Float64}(0.21790000673929033,0.5991124053885174,0.5574045559738112)   \n",
       " RGB{Float64}(0.13550560517128685,0.47613753560030087,0.44211495199111844) \n",
       " RGB{Float64}(0.06069657719167478,0.3377689529830444,0.3123217445272253)   \n",
       " RGB{Float64}(0.009322048680407272,0.18655815997688785,0.17056788039065013)"
      ]
     },
     "execution_count": 6,
     "metadata": {},
     "output_type": "execute_result"
    }
   ],
   "source": [
    "hue = 180 #[0,360] hue of the color, try changing me!\n",
    "N   = 10  #number of colors to create, try changing me too!\n",
    "palette = sequential_palette(hue, N)"
   ]
  },
  {
   "cell_type": "code",
   "execution_count": null,
   "metadata": {
    "slideshow": {
     "slide_type": "skip"
    }
   },
   "outputs": [],
   "source": [
    "palette = distinguishable_colors(100) #Maximally distinguishable colors; try me out too!"
   ]
  },
  {
   "cell_type": "code",
   "execution_count": null,
   "metadata": {
    "slideshow": {
     "slide_type": "skip"
    }
   },
   "outputs": [],
   "source": [
    "hueLeft  = 12\n",
    "hueRight = 225\n",
    "palette = diverging_palette(hueLeft, hueRight, 20) #Woah, hold on! What am I?"
   ]
  },
  {
   "cell_type": "code",
   "execution_count": 67,
   "metadata": {
    "slideshow": {
     "slide_type": "slide"
    }
   },
   "outputs": [
    {
     "data": {
      "image/svg+xml": [
       "<?xml version=\"1.0\" encoding=\"UTF-8\"?>\n",
       "<!DOCTYPE svg PUBLIC \"-//W3C//DTD SVG 1.1//EN\"\n",
       " \"http://www.w3.org/Graphics/SVG/1.1/DTD/svg11.dtd\">\n",
       "<svg xmlns=\"http://www.w3.org/2000/svg\" version=\"1.1\"\n",
       "     width=\"150.0mm\" height=\"150.0mm\"\n",
       "     shape-rendering=\"crispEdges\">\n",
       "<rect x=\"0.0mm\" y=\"0.0mm\"\n",
       "      width=\"17.75mm\" height=\"17.75mm\"\n",
       "      fill=\"#86CEE3\" stroke=\"none\" />\n",
       "<rect x=\"18.75mm\" y=\"0.0mm\"\n",
       "      width=\"17.75mm\" height=\"17.75mm\"\n",
       "      fill=\"#266F86\" stroke=\"none\" />\n",
       "<rect x=\"37.5mm\" y=\"0.0mm\"\n",
       "      width=\"17.75mm\" height=\"17.75mm\"\n",
       "      fill=\"#BB3831\" stroke=\"none\" />\n",
       "<rect x=\"56.25mm\" y=\"0.0mm\"\n",
       "      width=\"17.75mm\" height=\"17.75mm\"\n",
       "      fill=\"#FFAA9E\" stroke=\"none\" />\n",
       "<rect x=\"75.0mm\" y=\"0.0mm\"\n",
       "      width=\"17.75mm\" height=\"17.75mm\"\n",
       "      fill=\"#3B8CA5\" stroke=\"none\" />\n",
       "<rect x=\"93.75mm\" y=\"0.0mm\"\n",
       "      width=\"17.75mm\" height=\"17.75mm\"\n",
       "      fill=\"#FFAA9E\" stroke=\"none\" />\n",
       "<rect x=\"112.5mm\" y=\"0.0mm\"\n",
       "      width=\"17.75mm\" height=\"17.75mm\"\n",
       "      fill=\"#FFEAE5\" stroke=\"none\" />\n",
       "<rect x=\"131.25mm\" y=\"0.0mm\"\n",
       "      width=\"17.75mm\" height=\"17.75mm\"\n",
       "      fill=\"#DC554B\" stroke=\"none\" />\n",
       "<rect x=\"0.0mm\" y=\"18.75mm\"\n",
       "      width=\"17.75mm\" height=\"17.75mm\"\n",
       "      fill=\"#BB3831\" stroke=\"none\" />\n",
       "<rect x=\"18.75mm\" y=\"18.75mm\"\n",
       "      width=\"17.75mm\" height=\"17.75mm\"\n",
       "      fill=\"#590606\" stroke=\"none\" />\n",
       "<rect x=\"37.5mm\" y=\"18.75mm\"\n",
       "      width=\"17.75mm\" height=\"17.75mm\"\n",
       "      fill=\"#590606\" stroke=\"none\" />\n",
       "<rect x=\"56.25mm\" y=\"18.75mm\"\n",
       "      width=\"17.75mm\" height=\"17.75mm\"\n",
       "      fill=\"#FF9083\" stroke=\"none\" />\n",
       "<rect x=\"75.0mm\" y=\"18.75mm\"\n",
       "      width=\"17.75mm\" height=\"17.75mm\"\n",
       "      fill=\"#590606\" stroke=\"none\" />\n",
       "<rect x=\"93.75mm\" y=\"18.75mm\"\n",
       "      width=\"17.75mm\" height=\"17.75mm\"\n",
       "      fill=\"#F37367\" stroke=\"none\" />\n",
       "<rect x=\"112.5mm\" y=\"18.75mm\"\n",
       "      width=\"17.75mm\" height=\"17.75mm\"\n",
       "      fill=\"#590606\" stroke=\"none\" />\n",
       "<rect x=\"131.25mm\" y=\"18.75mm\"\n",
       "      width=\"17.75mm\" height=\"17.75mm\"\n",
       "      fill=\"#BB3831\" stroke=\"none\" />\n",
       "<rect x=\"0.0mm\" y=\"37.5mm\"\n",
       "      width=\"17.75mm\" height=\"17.75mm\"\n",
       "      fill=\"#F37367\" stroke=\"none\" />\n",
       "<rect x=\"18.75mm\" y=\"37.5mm\"\n",
       "      width=\"17.75mm\" height=\"17.75mm\"\n",
       "      fill=\"#042E3A\" stroke=\"none\" />\n",
       "<rect x=\"37.5mm\" y=\"37.5mm\"\n",
       "      width=\"17.75mm\" height=\"17.75mm\"\n",
       "      fill=\"#FFD7CF\" stroke=\"none\" />\n",
       "<rect x=\"56.25mm\" y=\"37.5mm\"\n",
       "      width=\"17.75mm\" height=\"17.75mm\"\n",
       "      fill=\"#F37367\" stroke=\"none\" />\n",
       "<rect x=\"75.0mm\" y=\"37.5mm\"\n",
       "      width=\"17.75mm\" height=\"17.75mm\"\n",
       "      fill=\"#FFD7CF\" stroke=\"none\" />\n",
       "<rect x=\"93.75mm\" y=\"37.5mm\"\n",
       "      width=\"17.75mm\" height=\"17.75mm\"\n",
       "      fill=\"#51A5BF\" stroke=\"none\" />\n",
       "<rect x=\"112.5mm\" y=\"37.5mm\"\n",
       "      width=\"17.75mm\" height=\"17.75mm\"\n",
       "      fill=\"#86CEE3\" stroke=\"none\" />\n",
       "<rect x=\"131.25mm\" y=\"37.5mm\"\n",
       "      width=\"17.75mm\" height=\"17.75mm\"\n",
       "      fill=\"#266F86\" stroke=\"none\" />\n",
       "<rect x=\"0.0mm\" y=\"56.25mm\"\n",
       "      width=\"17.75mm\" height=\"17.75mm\"\n",
       "      fill=\"#3B8CA5\" stroke=\"none\" />\n",
       "<rect x=\"18.75mm\" y=\"56.25mm\"\n",
       "      width=\"17.75mm\" height=\"17.75mm\"\n",
       "      fill=\"#135062\" stroke=\"none\" />\n",
       "<rect x=\"37.5mm\" y=\"56.25mm\"\n",
       "      width=\"17.75mm\" height=\"17.75mm\"\n",
       "      fill=\"#F37367\" stroke=\"none\" />\n",
       "<rect x=\"56.25mm\" y=\"56.25mm\"\n",
       "      width=\"17.75mm\" height=\"17.75mm\"\n",
       "      fill=\"#BFEAF5\" stroke=\"none\" />\n",
       "<rect x=\"75.0mm\" y=\"56.25mm\"\n",
       "      width=\"17.75mm\" height=\"17.75mm\"\n",
       "      fill=\"#6BBBD4\" stroke=\"none\" />\n",
       "<rect x=\"93.75mm\" y=\"56.25mm\"\n",
       "      width=\"17.75mm\" height=\"17.75mm\"\n",
       "      fill=\"#BB3831\" stroke=\"none\" />\n",
       "<rect x=\"112.5mm\" y=\"56.25mm\"\n",
       "      width=\"17.75mm\" height=\"17.75mm\"\n",
       "      fill=\"#BFEAF5\" stroke=\"none\" />\n",
       "<rect x=\"131.25mm\" y=\"56.25mm\"\n",
       "      width=\"17.75mm\" height=\"17.75mm\"\n",
       "      fill=\"#A2DDEE\" stroke=\"none\" />\n",
       "<rect x=\"0.0mm\" y=\"75.0mm\"\n",
       "      width=\"17.75mm\" height=\"17.75mm\"\n",
       "      fill=\"#3B8CA5\" stroke=\"none\" />\n",
       "<rect x=\"18.75mm\" y=\"75.0mm\"\n",
       "      width=\"17.75mm\" height=\"17.75mm\"\n",
       "      fill=\"#8E1D1A\" stroke=\"none\" />\n",
       "<rect x=\"37.5mm\" y=\"75.0mm\"\n",
       "      width=\"17.75mm\" height=\"17.75mm\"\n",
       "      fill=\"#6BBBD4\" stroke=\"none\" />\n",
       "<rect x=\"56.25mm\" y=\"75.0mm\"\n",
       "      width=\"17.75mm\" height=\"17.75mm\"\n",
       "      fill=\"#BB3831\" stroke=\"none\" />\n",
       "<rect x=\"75.0mm\" y=\"75.0mm\"\n",
       "      width=\"17.75mm\" height=\"17.75mm\"\n",
       "      fill=\"#FFD7CF\" stroke=\"none\" />\n",
       "<rect x=\"93.75mm\" y=\"75.0mm\"\n",
       "      width=\"17.75mm\" height=\"17.75mm\"\n",
       "      fill=\"#FF9083\" stroke=\"none\" />\n",
       "<rect x=\"112.5mm\" y=\"75.0mm\"\n",
       "      width=\"17.75mm\" height=\"17.75mm\"\n",
       "      fill=\"#F37367\" stroke=\"none\" />\n",
       "<rect x=\"131.25mm\" y=\"75.0mm\"\n",
       "      width=\"17.75mm\" height=\"17.75mm\"\n",
       "      fill=\"#135062\" stroke=\"none\" />\n",
       "<rect x=\"0.0mm\" y=\"93.75mm\"\n",
       "      width=\"17.75mm\" height=\"17.75mm\"\n",
       "      fill=\"#042E3A\" stroke=\"none\" />\n",
       "<rect x=\"18.75mm\" y=\"93.75mm\"\n",
       "      width=\"17.75mm\" height=\"17.75mm\"\n",
       "      fill=\"#042E3A\" stroke=\"none\" />\n",
       "<rect x=\"37.5mm\" y=\"93.75mm\"\n",
       "      width=\"17.75mm\" height=\"17.75mm\"\n",
       "      fill=\"#8E1D1A\" stroke=\"none\" />\n",
       "<rect x=\"56.25mm\" y=\"93.75mm\"\n",
       "      width=\"17.75mm\" height=\"17.75mm\"\n",
       "      fill=\"#FF9083\" stroke=\"none\" />\n",
       "<rect x=\"75.0mm\" y=\"93.75mm\"\n",
       "      width=\"17.75mm\" height=\"17.75mm\"\n",
       "      fill=\"#FFAA9E\" stroke=\"none\" />\n",
       "<rect x=\"93.75mm\" y=\"93.75mm\"\n",
       "      width=\"17.75mm\" height=\"17.75mm\"\n",
       "      fill=\"#135062\" stroke=\"none\" />\n",
       "<rect x=\"112.5mm\" y=\"93.75mm\"\n",
       "      width=\"17.75mm\" height=\"17.75mm\"\n",
       "      fill=\"#FFC2B8\" stroke=\"none\" />\n",
       "<rect x=\"131.25mm\" y=\"93.75mm\"\n",
       "      width=\"17.75mm\" height=\"17.75mm\"\n",
       "      fill=\"#042E3A\" stroke=\"none\" />\n",
       "<rect x=\"0.0mm\" y=\"112.5mm\"\n",
       "      width=\"17.75mm\" height=\"17.75mm\"\n",
       "      fill=\"#A2DDEE\" stroke=\"none\" />\n",
       "<rect x=\"18.75mm\" y=\"112.5mm\"\n",
       "      width=\"17.75mm\" height=\"17.75mm\"\n",
       "      fill=\"#590606\" stroke=\"none\" />\n",
       "<rect x=\"37.5mm\" y=\"112.5mm\"\n",
       "      width=\"17.75mm\" height=\"17.75mm\"\n",
       "      fill=\"#BFEAF5\" stroke=\"none\" />\n",
       "<rect x=\"56.25mm\" y=\"112.5mm\"\n",
       "      width=\"17.75mm\" height=\"17.75mm\"\n",
       "      fill=\"#51A5BF\" stroke=\"none\" />\n",
       "<rect x=\"75.0mm\" y=\"112.5mm\"\n",
       "      width=\"17.75mm\" height=\"17.75mm\"\n",
       "      fill=\"#6BBBD4\" stroke=\"none\" />\n",
       "<rect x=\"93.75mm\" y=\"112.5mm\"\n",
       "      width=\"17.75mm\" height=\"17.75mm\"\n",
       "      fill=\"#BFEAF5\" stroke=\"none\" />\n",
       "<rect x=\"112.5mm\" y=\"112.5mm\"\n",
       "      width=\"17.75mm\" height=\"17.75mm\"\n",
       "      fill=\"#266F86\" stroke=\"none\" />\n",
       "<rect x=\"131.25mm\" y=\"112.5mm\"\n",
       "      width=\"17.75mm\" height=\"17.75mm\"\n",
       "      fill=\"#6BBBD4\" stroke=\"none\" />\n",
       "<rect x=\"0.0mm\" y=\"131.25mm\"\n",
       "      width=\"17.75mm\" height=\"17.75mm\"\n",
       "      fill=\"#A2DDEE\" stroke=\"none\" />\n",
       "<rect x=\"18.75mm\" y=\"131.25mm\"\n",
       "      width=\"17.75mm\" height=\"17.75mm\"\n",
       "      fill=\"#6BBBD4\" stroke=\"none\" />\n",
       "<rect x=\"37.5mm\" y=\"131.25mm\"\n",
       "      width=\"17.75mm\" height=\"17.75mm\"\n",
       "      fill=\"#86CEE3\" stroke=\"none\" />\n",
       "<rect x=\"56.25mm\" y=\"131.25mm\"\n",
       "      width=\"17.75mm\" height=\"17.75mm\"\n",
       "      fill=\"#FFD7CF\" stroke=\"none\" />\n",
       "<rect x=\"75.0mm\" y=\"131.25mm\"\n",
       "      width=\"17.75mm\" height=\"17.75mm\"\n",
       "      fill=\"#FFEAE5\" stroke=\"none\" />\n",
       "<rect x=\"93.75mm\" y=\"131.25mm\"\n",
       "      width=\"17.75mm\" height=\"17.75mm\"\n",
       "      fill=\"#FFAA9E\" stroke=\"none\" />\n",
       "<rect x=\"112.5mm\" y=\"131.25mm\"\n",
       "      width=\"17.75mm\" height=\"17.75mm\"\n",
       "      fill=\"#86CEE3\" stroke=\"none\" />\n",
       "<rect x=\"131.25mm\" y=\"131.25mm\"\n",
       "      width=\"17.75mm\" height=\"17.75mm\"\n",
       "      fill=\"#042E3A\" stroke=\"none\" />\n",
       "</svg>"
      ],
      "text/plain": [
       "8×8 Array{RGB{Float64},2} with eltype RGB{Float64}:\n",
       " RGB{Float64}(0.526157,0.80597,0.889346)   …  RGB{Float64}(0.863122,0.333437,0.295647) \n",
       " RGB{Float64}(0.731555,0.217694,0.19366)      RGB{Float64}(0.731555,0.217694,0.19366)  \n",
       " RGB{Float64}(0.951802,0.452518,0.405544)     RGB{Float64}(0.148521,0.43563,0.525498)  \n",
       " RGB{Float64}(0.229772,0.547089,0.647604)     RGB{Float64}(0.636753,0.867938,0.932234) \n",
       " RGB{Float64}(0.229772,0.547089,0.647604)     RGB{Float64}(0.0744818,0.312404,0.384783)\n",
       " RGB{Float64}(0.0159694,0.179584,0.22854)  …  RGB{Float64}(0.0159694,0.179584,0.22854) \n",
       " RGB{Float64}(0.636753,0.867938,0.932234)     RGB{Float64}(0.41838,0.732285,0.829742)  \n",
       " RGB{Float64}(0.636753,0.867938,0.932234)     RGB{Float64}(0.0159694,0.179584,0.22854) "
      ]
     },
     "execution_count": 67,
     "metadata": {},
     "output_type": "execute_result"
    }
   ],
   "source": [
    "rand(palette, 8, 8) #create 8x8 random number matrix of different values in `palette`."
   ]
  },
  {
   "cell_type": "markdown",
   "metadata": {
    "slideshow": {
     "slide_type": "slide"
    }
   },
   "source": [
    "## Interoperability\n",
    "There are many existing codes and libraries, why should we re-use them? One of the strenghts of Julia is it's interoperability. \n",
    "\n",
    "C and Fortran, for example are natively supported. But many other languages are just one package away. \n",
    "\n",
    "Take python for example:"
   ]
  },
  {
   "cell_type": "code",
   "execution_count": 12,
   "metadata": {
    "slideshow": {
     "slide_type": "fragment"
    }
   },
   "outputs": [
    {
     "data": {
      "text/plain": [
       "0.7390851332151607"
      ]
     },
     "execution_count": 12,
     "metadata": {},
     "output_type": "execute_result"
    }
   ],
   "source": [
    "using PyCall\n",
    "\n",
    "@pyimport scipy.optimize as so\n",
    "so.newton(x -> cos(x) - x, 1)"
   ]
  },
  {
   "cell_type": "markdown",
   "metadata": {
    "slideshow": {
     "slide_type": "slide"
    }
   },
   "source": [
    "## Different libraries for different languages\n",
    "- Python with [PyCall](https://github.com/JuliaPy/PyCall.jl)\n",
    "- R with [RCall](https://github.com/JuliaInterop/RCall.jl)\n",
    "- C++ with [CxxWrap](https://github.com/JuliaInterop/CxxWrap.jl)\n",
    "- Matlab with [MATLAB](https://github.com/JuliaInterop/MATLAB.jl)\n",
    "- Java with [JavaCall](https://github.com/JuliaInterop/JavaCall.jl)\n",
    "- Mathematica with [Mathematica](https://github.com/JuliaInterop/Mathematica.jl)\n",
    "- ObjectiveC with [ObjectiveC](https://github.com/JuliaInterop/ObjectiveC.jl)"
   ]
  },
  {
   "cell_type": "markdown",
   "metadata": {
    "slideshow": {
     "slide_type": "slide"
    }
   },
   "source": [
    "## Plotting\n",
    "\n",
    "There are few different ways to plot in Julia. \n",
    "\n",
    "Here we'll use the `Plots` [package](http://docs.juliaplots.org/latest/) that tries to unify many of the underlying visualization engines to have a similar interface."
   ]
  },
  {
   "cell_type": "code",
   "execution_count": null,
   "metadata": {
    "slideshow": {
     "slide_type": "fragment"
    }
   },
   "outputs": [],
   "source": [
    "Pkg.add(\"Plots\")\n",
    "using Plots"
   ]
  },
  {
   "cell_type": "markdown",
   "metadata": {
    "slideshow": {
     "slide_type": "slide"
    }
   },
   "source": [
    "One of the advantages to `Plots.jl` is that it allows you to seamlessly change backends. For example, if you are familiar with the matplotlib library from Python, then you can keep using that via the `PyPlot` [package](https://github.com/JuliaPy/PyPlot.jl).\n",
    "\n",
    "Engines/backends include:\n",
    "- [Plotly](https://plot.ly/julia/): Plotly.jl package (`plotly()` to activate)\n",
    "    - default for Plots if nothing else is installed\n",
    "    - interactive plots in browser\n",
    "    - `PlotlyJS` (activate with `plotlyjs()`) is the local offline version\n",
    "- [PyPlot](https://github.com/JuliaPy/PyPlot.jl): Matplotlib interface (`pyplot()` to activate)\n",
    "    - All the bells and whistles of Matplotlib\n",
    "- [GR](https://github.com/jheinen/GR.jl): GR framework interface (`gr()` to activate)\n",
    "- [UnicodePlots](https://github.com/Evizero/UnicodePlots.jl): (`unicodeplots()` to activate)\n",
    "    - Plots inside terminal!\n",
    "    \n",
    "Also:\n",
    "- [Gadfly](http://gadflyjl.org/stable/): Wickham-Wilkinson style grammar\n",
    "For R-styled plotting.\n",
    "\n",
    "See the [docs](http://docs.juliaplots.org/v1/backends/) for more info about different backends, and their pros & cons."
   ]
  },
  {
   "cell_type": "code",
   "execution_count": null,
   "metadata": {
    "slideshow": {
     "slide_type": "skip"
    }
   },
   "outputs": [],
   "source": [
    "#Pkg.add(\"PlotlyJS\") #let's install our own local plotly\n",
    "Pkg.add(\"PyPlot\") #let's install our own local plotly"
   ]
  },
  {
   "cell_type": "code",
   "execution_count": null,
   "metadata": {
    "slideshow": {
     "slide_type": "skip"
    }
   },
   "outputs": [],
   "source": [
    "#plotly()       # Plotly.jl (needs Plotly package)\n",
    "#plotlyjs()     # local javascript server for plotly (needs PlotlyJS)\n",
    "#gr()           # GR backend, (needs GR package)\n",
    "pyplot()       # Matplotlib interface (needs PyPlot package and up-to-date system matplotlib)\n",
    "#unicodeplots() # UnicodePlots backend (needs UnicodePlots package); NOTE: does not work in notebooks"
   ]
  },
  {
   "cell_type": "markdown",
   "metadata": {
    "slideshow": {
     "slide_type": "slide"
    }
   },
   "source": [
    "## Pirates!\n",
    "In the name of scientific inquiry, let's use this notebook to examine the relationship between the global temperature and the number of pirates between roughly 1860 and 2000."
   ]
  },
  {
   "cell_type": "code",
   "execution_count": null,
   "metadata": {
    "slideshow": {
     "slide_type": "fragment"
    }
   },
   "outputs": [],
   "source": [
    "globaltemperatures = [14.4, 14.5, 14.8, 15.2, 15.5, 15.8]\n",
    "numpirates = [45000, 20000, 15000, 5000, 400, 17]"
   ]
  },
  {
   "cell_type": "code",
   "execution_count": 36,
   "metadata": {
    "slideshow": {
     "slide_type": "slide"
    }
   },
   "outputs": [
    {
     "data": {
      "image/png": "[encoded data removed]"
     },
     "execution_count": 36,
     "metadata": {},
     "output_type": "execute_result"
    }
   ],
   "source": [
    "pyplot() #load interface\n",
    "plot(numpirates, globaltemperatures, label=\"line\")\n",
    "scatter!(numpirates, globaltemperatures, label=\"points\")\n",
    "\n",
    "xlabel!(\"Number of Pirates [Approximate]\")\n",
    "ylabel!(\"Global Temperature (C)\")\n",
    "title!(\"Influence of pirate population on global warming\")\n",
    "xflip!()"
   ]
  },
  {
   "cell_type": "markdown",
   "metadata": {
    "slideshow": {
     "slide_type": "slide"
    }
   },
   "source": [
    "## Random Walk\n",
    "Let's take our visualization to the next dimension. Here is a simple plot to visualize the random walk in 3D."
   ]
  },
  {
   "cell_type": "code",
   "execution_count": null,
   "metadata": {
    "slideshow": {
     "slide_type": "skip"
    }
   },
   "outputs": [],
   "source": [
    "#activate Plotly backend (if you have not done it previously)\n",
    "using Plots\n",
    "pyplot()"
   ]
  },
  {
   "cell_type": "code",
   "execution_count": 37,
   "metadata": {
    "slideshow": {
     "slide_type": "slide"
    }
   },
   "outputs": [
    {
     "data": {
      "image/png": "[encoded data removed]"
     },
     "execution_count": 37,
     "metadata": {},
     "output_type": "execute_result"
    }
   ],
   "source": [
    "n = 1000\n",
    "rw() = cumsum(randn(n)) #function for cumulative random values\n",
    "\n",
    "# x/y/z coordinates\n",
    "x = rw() \n",
    "y = rw()\n",
    "z = rw()\n",
    "\n",
    "plot(x,y,z)"
   ]
  },
  {
   "cell_type": "markdown",
   "metadata": {
    "slideshow": {
     "slide_type": "slide"
    }
   },
   "source": [
    "## Animations\n",
    "Finally, let's add some time aspect to our visualizations. `Plots` has a simple `@gif` macro for this.\n",
    "\n",
    "It builds an animation using one frame per iteration loop, then creates an animated GIF from that.\n",
    "```julia\n",
    "p = plot(1)\n",
    "@gif for x=0:0.1:5\n",
    "    push!(p, 1, sin(x))\n",
    "end\n",
    "```"
   ]
  },
  {
   "cell_type": "markdown",
   "metadata": {
    "slideshow": {
     "slide_type": "slide"
    }
   },
   "source": [
    "Let's write up a simple Lorenz attractor. See https://en.wikipedia.org/wiki/Lorenz_system"
   ]
  },
  {
   "cell_type": "code",
   "execution_count": null,
   "metadata": {
    "slideshow": {
     "slide_type": "fragment"
    }
   },
   "outputs": [],
   "source": [
    "n = 2000\n",
    "dt = 0.02\n",
    "σ, ρ, β = 10., 28., 8/3\n",
    "global x, y, z = 1., 1., 1.\n",
    "\n",
    "# Lorentz attractor\n",
    "function lorentzAttractor(x,y,z)\n",
    "    x += dt * σ*(y - x)\n",
    "    y += dt * (x*(ρ - z) - y)   \n",
    "    z += dt * (x*y - β*z  )\n",
    "    return x, y, z\n",
    "end"
   ]
  },
  {
   "cell_type": "code",
   "execution_count": null,
   "metadata": {
    "slideshow": {
     "slide_type": "skip"
    }
   },
   "outputs": [],
   "source": [
    "#activate PyPlot backend (if you have not done it previously)\n",
    "using Plots\n",
    "pyplot()"
   ]
  },
  {
   "cell_type": "code",
   "execution_count": null,
   "metadata": {
    "slideshow": {
     "slide_type": "slide"
    }
   },
   "outputs": [],
   "source": [
    "# initialize a 3D plot with 1 empty series\n",
    "plt = path3d(1, xlim=(-25,25), ylim=(-25,25), zlim=(0,50),\n",
    "                xlab = \"x\", ylab = \"y\", zlab = \"z\",\n",
    "                title = \"Lorenz Attractor\", marker = 1)\n",
    "\n",
    "# build an animated gif, saving every 10th frame\n",
    "@gif for i=1:n\n",
    "    global x, y, z = lorentzAttractor(x,y,z)\n",
    "    push!(plt, x, y, z)\n",
    "end every 100"
   ]
  },
  {
   "cell_type": "markdown",
   "metadata": {
    "slideshow": {
     "slide_type": "slide"
    }
   },
   "source": [
    "![animation](../slides/tmp.gif)"
   ]
  },
  {
   "cell_type": "markdown",
   "metadata": {
    "slideshow": {
     "slide_type": "slide"
    }
   },
   "source": [
    "## More examples\n",
    "For more examples, see [Plots](http://docs.juliaplots.org/latest) documentation.\n",
    "- [PyPlot](http://docs.juliaplots.org/latest/examples/pyplot/)\n",
    "- [GR](http://docs.juliaplots.org/latest/examples/gr/)\n",
    "- [Plotly](http://docs.juliaplots.org/latest/examples/plotlyjs/)\n",
    "- etc."
   ]
  },
  {
   "cell_type": "markdown",
   "metadata": {
    "slideshow": {
     "slide_type": "slide"
    }
   },
   "source": [
    "## Summary\n",
    "\n",
    "Julia provides a powerful interoparability API for usage of various other languages.\n",
    "\n",
    "These rely on external libraries such as:\n",
    "- Python with [PyCall](https://github.com/JuliaPy/PyCall.jl)\n",
    "- R with [RCall](https://github.com/JuliaInterop/RCall.jl)\n",
    "\n",
    "Same functionality also allows to use many mature visualization libraries via Julia."
   ]
  }
 ],
 "metadata": {
  "celltoolbar": "Slideshow",
  "kernelspec": {
   "display_name": "Julia 1.0.3",
   "language": "julia",
   "name": "julia-1.0"
  },
  "language_info": {
   "file_extension": ".jl",
   "mimetype": "application/julia",
   "name": "julia",
   "version": "1.0.3"
  }
 },
 "nbformat": 4,
 "nbformat_minor": 2
}
